{
 "cells": [
  {
   "cell_type": "code",
   "execution_count": 1,
   "metadata": {},
   "outputs": [
    {
     "name": "stdout",
     "output_type": "stream",
     "text": [
      "Looking in indexes: https://download.pytorch.org/whl/cu121\n",
      "Collecting torch\n",
      "  Using cached https://download.pytorch.org/whl/cu121/torch-2.1.1%2Bcu121-cp311-cp311-win_amd64.whl (2473.9 MB)\n",
      "Collecting torchvision\n",
      "  Using cached https://download.pytorch.org/whl/cu121/torchvision-0.16.1%2Bcu121-cp311-cp311-win_amd64.whl (5.6 MB)\n",
      "Collecting torchaudio\n",
      "  Using cached https://download.pytorch.org/whl/cu121/torchaudio-2.1.1%2Bcu121-cp311-cp311-win_amd64.whl (4.0 MB)\n",
      "Collecting filelock (from torch)\n",
      "  Using cached https://download.pytorch.org/whl/filelock-3.9.0-py3-none-any.whl (9.7 kB)\n",
      "Collecting typing-extensions (from torch)\n",
      "  Using cached https://download.pytorch.org/whl/typing_extensions-4.4.0-py3-none-any.whl (26 kB)\n",
      "Collecting sympy (from torch)\n",
      "  Using cached https://download.pytorch.org/whl/sympy-1.12-py3-none-any.whl (5.7 MB)\n",
      "Collecting networkx (from torch)\n",
      "  Using cached https://download.pytorch.org/whl/networkx-3.0-py3-none-any.whl (2.0 MB)\n",
      "Collecting jinja2 (from torch)\n",
      "  Using cached https://download.pytorch.org/whl/Jinja2-3.1.2-py3-none-any.whl (133 kB)\n",
      "Collecting fsspec (from torch)\n",
      "  Using cached https://download.pytorch.org/whl/fsspec-2023.4.0-py3-none-any.whl (153 kB)\n",
      "Requirement already satisfied: numpy in c:\\data\\byu\\fall2023\\201r\\avalanche\\.venv\\lib\\site-packages (from torchvision) (1.26.1)\n",
      "Requirement already satisfied: requests in c:\\data\\byu\\fall2023\\201r\\avalanche\\.venv\\lib\\site-packages (from torchvision) (2.31.0)\n",
      "Requirement already satisfied: pillow!=8.3.*,>=5.3.0 in c:\\data\\byu\\fall2023\\201r\\avalanche\\.venv\\lib\\site-packages (from torchvision) (10.1.0)\n",
      "Collecting MarkupSafe>=2.0 (from jinja2->torch)\n",
      "  Using cached https://download.pytorch.org/whl/MarkupSafe-2.1.3-cp311-cp311-win_amd64.whl (17 kB)\n",
      "Requirement already satisfied: charset-normalizer<4,>=2 in c:\\data\\byu\\fall2023\\201r\\avalanche\\.venv\\lib\\site-packages (from requests->torchvision) (3.3.0)\n",
      "Requirement already satisfied: idna<4,>=2.5 in c:\\data\\byu\\fall2023\\201r\\avalanche\\.venv\\lib\\site-packages (from requests->torchvision) (3.4)\n",
      "Requirement already satisfied: urllib3<3,>=1.21.1 in c:\\data\\byu\\fall2023\\201r\\avalanche\\.venv\\lib\\site-packages (from requests->torchvision) (2.0.6)\n",
      "Requirement already satisfied: certifi>=2017.4.17 in c:\\data\\byu\\fall2023\\201r\\avalanche\\.venv\\lib\\site-packages (from requests->torchvision) (2023.7.22)\n",
      "Collecting mpmath>=0.19 (from sympy->torch)\n",
      "  Using cached https://download.pytorch.org/whl/mpmath-1.3.0-py3-none-any.whl (536 kB)\n",
      "Installing collected packages: mpmath, typing-extensions, sympy, networkx, MarkupSafe, fsspec, filelock, jinja2, torch, torchvision, torchaudio\n",
      "Successfully installed MarkupSafe-2.1.3 filelock-3.9.0 fsspec-2023.4.0 jinja2-3.1.2 mpmath-1.3.0 networkx-3.0 sympy-1.12 torch-2.1.1+cu121 torchaudio-2.1.1+cu121 torchvision-0.16.1+cu121 typing-extensions-4.4.0\n"
     ]
    },
    {
     "name": "stderr",
     "output_type": "stream",
     "text": [
      "\n",
      "[notice] A new release of pip is available: 23.3 -> 23.3.1\n",
      "[notice] To update, run: python.exe -m pip install --upgrade pip\n"
     ]
    }
   ],
   "source": [
    "!pip3 install torch torchvision torchaudio --index-url https://download.pytorch.org/whl/cu121"
   ]
  },
  {
   "cell_type": "code",
   "execution_count": 1,
   "metadata": {},
   "outputs": [
    {
     "name": "stdout",
     "output_type": "stream",
     "text": [
      "cuda:0\n"
     ]
    }
   ],
   "source": [
    "import torch\n",
    "device = torch.device(\"cuda:0\" if torch.cuda.is_available() else \"cpu\")\n",
    "print(device)"
   ]
  },
  {
   "cell_type": "code",
   "execution_count": 5,
   "metadata": {},
   "outputs": [],
   "source": [
    "import torch\n",
    "import torch.nn as nn\n",
    "import torch.nn.functional as F\n",
    "import torch.optim as optim\n",
    "import pandas as pd\n",
    "import numpy as np"
   ]
  },
  {
   "cell_type": "code",
   "execution_count": 4,
   "metadata": {},
   "outputs": [],
   "source": [
    "# for col, val in zip(df.columns, df.iloc[1]):\n",
    "#     print(col, \": \", val)"
   ]
  },
  {
   "cell_type": "code",
   "execution_count": 6,
   "metadata": {},
   "outputs": [
    {
     "name": "stdout",
     "output_type": "stream",
     "text": [
      "DATE :  2013-12-14\n",
      "url :  https://utahavalanchecenter.org/sites/default/files/archive/advisory/print/advisory/salt-lake/20131214.html\n",
      "HN :  yellow\n",
      "HNE :  yellow\n",
      "HE :  yellow\n",
      "HSE :  yellow\n",
      "HS :  yellow\n",
      "HSW :  yellow\n",
      "HW :  yellow\n",
      "HNW :  yellow\n",
      "MN :  yellow\n",
      "MNE :  yellow\n",
      "ME :  yellow\n",
      "MSE :  green\n",
      "MS :  green\n",
      "MSW :  green\n",
      "MW :  yellow\n",
      "MNW :  yellow\n",
      "LN :  green\n",
      "LNE :  green\n",
      "LE :  green\n",
      "LSE :  green\n",
      "LS :  green\n",
      "LSW :  green\n",
      "LW :  green\n",
      "LNW :  green\n",
      "high :  2.0\n",
      "mid :  1.625\n",
      "low :  1.0\n",
      "problem_1_type :  Persistent Slab\n",
      "likelihood_1 :  2.0\n",
      "size_1 :  2.0\n",
      "HN1 :  yellow\n",
      "HNE1 :  yellow\n",
      "HE1 :  yellow\n",
      "HSE1 :  green\n",
      "HS1 :  green\n",
      "HSW1 :  green\n",
      "HW1 :  yellow\n",
      "HNW1 :  yellow\n",
      "MN1 :  yellow\n",
      "MNE1 :  yellow\n",
      "ME1 :  yellow\n",
      "MSE1 :  green\n",
      "MS1 :  green\n",
      "MSW1 :  green\n",
      "MW1 :  yellow\n",
      "MNW1 :  yellow\n",
      "LN1 :  green\n",
      "LNE1 :  green\n",
      "LE1 :  green\n",
      "LSE1 :  green\n",
      "LS1 :  green\n",
      "LSW1 :  green\n",
      "LW1 :  green\n",
      "LNW1 :  green\n",
      "high1 :  0.0\n",
      "mid1 :  0.0\n",
      "low1 :  0.0\n",
      "problem_2_type :  Wind Slab\n",
      "likelihood_2 :  1.0\n",
      "size_2 :  1.0\n",
      "HN2 :  yellow\n",
      "HNE2 :  yellow\n",
      "HE2 :  yellow\n",
      "HSE2 :  yellow\n",
      "HS2 :  yellow\n",
      "HSW2 :  yellow\n",
      "HW2 :  yellow\n",
      "HNW2 :  yellow\n",
      "MN2 :  green\n",
      "MNE2 :  green\n",
      "ME2 :  green\n",
      "MSE2 :  green\n",
      "MS2 :  green\n",
      "MSW2 :  green\n",
      "MW2 :  green\n",
      "MNW2 :  green\n",
      "LN2 :  green\n",
      "LNE2 :  green\n",
      "LE2 :  green\n",
      "LSE2 :  green\n",
      "LS2 :  green\n",
      "LSW2 :  green\n",
      "LW2 :  green\n",
      "LNW2 :  green\n",
      "high2 :  0.0\n",
      "mid2 :  0.0\n",
      "low2 :  0.0\n",
      "problem_3_type :  nan\n",
      "likelihood_3 :  nan\n",
      "size_3 :  nan\n",
      "HN3 :  nan\n",
      "HNE3 :  nan\n",
      "HE3 :  nan\n",
      "HSE3 :  nan\n",
      "HS3 :  nan\n",
      "HSW3 :  nan\n",
      "HW3 :  nan\n",
      "HNW3 :  nan\n",
      "MN3 :  nan\n",
      "MNE3 :  nan\n",
      "ME3 :  nan\n",
      "MSE3 :  nan\n",
      "MS3 :  nan\n",
      "MSW3 :  nan\n",
      "MW3 :  nan\n",
      "MNW3 :  nan\n",
      "LN3 :  nan\n",
      "LNE3 :  nan\n",
      "LE3 :  nan\n",
      "LSE3 :  nan\n",
      "LS3 :  nan\n",
      "LSW3 :  nan\n",
      "LW3 :  nan\n",
      "LNW3 :  nan\n",
      "high3 :  nan\n",
      "mid3 :  nan\n",
      "low3 :  nan\n",
      "ALTA_Station :  USC00420072\n",
      "ALTA_Latitude :  40.59058\n",
      "ALTA_Longitude :  -111.63703\n",
      "ALTA_Elevation :  2654.8\n",
      "ALTA_Name :  ALTA, UT US\n",
      "ALTA_Precip_(tenths_mm) :  0.0\n",
      "ALTA_Snowfall_(mm) :  0.0\n",
      "ALTA_Snow_Depth_(mm) :  508.0\n",
      "ALTA_Max_Temp_(tenths_C) :  -39.0\n",
      "ALTA_Min_Temp_(tenths_C) :  -139.0\n",
      "ALTA_Multiday_Prec_Days :  nan\n",
      "ALTA_Multiday_Snowfall_Days :  nan\n",
      "ALTA_Multiday_Prec_Days_(tenths_mm) :  nan\n",
      "ALTA_Multiday_Snowfall :  nan\n",
      "ALTA_Temp_at_Observation_(tenths_C) :  -83.0\n",
      "ALTA_Fog_Ice_Fog :  nan\n",
      "ALTA_Heavy_Fog_Freezing_Fog :  nan\n",
      "ALTA_Ice_Pellets_Sleet :  nan\n",
      "ALTA_Hail :  nan\n",
      "ALTA_Glaze_Rime :  nan\n",
      "ALTA_Weather_Type_07 :  nan\n",
      "ALTA_Smoke_Haze :  nan\n",
      "ALTA_Blowing_Drifting_Snow :  nan\n",
      "ALTA_High_Winds :  nan\n",
      "ALTA_Snow_Pellets_Ice_Crystals :  nan\n",
      "BRIGHTON_Station :  USS0011J57S\n",
      "BRIGHTON_Latitude :  40.6\n",
      "BRIGHTON_Longitude :  -111.58\n",
      "BRIGHTON_Elevation :  2667.0\n",
      "BRIGHTON_Name :  BRIGHTON, UT US\n",
      "BRIGHTON_Precip_(tenths_mm) :  0.0\n",
      "BRIGHTON_Snow_Depth_(mm) :  508.0\n",
      "BRIGHTON_Max_Temp_(tenths_C) :  -21.0\n",
      "BRIGHTON_Min_Temp_(tenths_C) :  -110.0\n",
      "BRIGHTON_Avg_Daily_Temp_(tenths_C) :  -73.0\n",
      "BRIGHTON_Temp_at_Observation_(tenths_C) :  -50.0\n",
      "BRIGHTON_Snow_on_Ground_(tenths_mm) :  1194.0\n",
      "THAYNES_Station :  USS0011J56S\n",
      "THAYNES_Latitude :  40.62\n",
      "THAYNES_Longitude :  -111.53\n",
      "THAYNES_Elevation :  2813.3\n",
      "THAYNES_Name :  THAYNES CANYON, UT US\n",
      "THAYNES_Precip_(tenths_mm) :  0.0\n",
      "THAYNES_Snow_Depth_(mm) :  559.0\n",
      "THAYNES_Max_Temp_(tenths_C) :  -7.0\n",
      "THAYNES_Min_Temp_(tenths_C) :  -96.0\n",
      "THAYNES_Avg_Daily_Temp_(tenths_C) :  -50.0\n",
      "THAYNES_Temp_at_Observation_(tenths_C) :  -11.0\n",
      "THAYNES_Snow_on_Ground_(tenths_mm) :  1245.0\n",
      "PARLEY_SUMMIT_Station :  USS0011J52S\n",
      "PARLEY_SUMMIT_Latitude :  40.76\n",
      "PARLEY_SUMMIT_Longitude :  -111.63\n",
      "PARLEY_SUMMIT_Elevation :  2286.0\n",
      "PARLEY_SUMMIT_Name :  PARLEY S SUMMIT, UT US\n",
      "PARLEY_SUMMIT_Precip_(tenths_mm) :  0.0\n",
      "PARLEY_SUMMIT_Snow_Depth_(mm) :  406.0\n",
      "PARLEY_SUMMIT_Max_Temp_(tenths_C) :  -26.0\n",
      "PARLEY_SUMMIT_Min_Temp_(tenths_C) :  -75.0\n",
      "PARLEY_SUMMIT_Avg_Daily_Temp_(tenths_C) :  -53.0\n",
      "PARLEY_SUMMIT_Temp_at_Observation_(tenths_C) :  -42.0\n",
      "PARLEY_SUMMIT_Snow_on_Ground_(tenths_mm) :  914.0\n"
     ]
    }
   ],
   "source": [
    "tmpdf = pd.read_csv('resources/DATA.csv')\n",
    "for col, val in zip(tmpdf.columns, tmpdf.iloc[1]):\n",
    "    print(col, \": \", val)"
   ]
  },
  {
   "cell_type": "code",
   "execution_count": 101,
   "metadata": {},
   "outputs": [
    {
     "data": {
      "text/html": [
       "<div>\n",
       "<style scoped>\n",
       "    .dataframe tbody tr th:only-of-type {\n",
       "        vertical-align: middle;\n",
       "    }\n",
       "\n",
       "    .dataframe tbody tr th {\n",
       "        vertical-align: top;\n",
       "    }\n",
       "\n",
       "    .dataframe thead th {\n",
       "        text-align: right;\n",
       "    }\n",
       "</style>\n",
       "<table border=\"1\" class=\"dataframe\">\n",
       "  <thead>\n",
       "    <tr style=\"text-align: right;\">\n",
       "      <th></th>\n",
       "      <th>DATE</th>\n",
       "      <th>url</th>\n",
       "      <th>HN</th>\n",
       "      <th>HNE</th>\n",
       "      <th>HE</th>\n",
       "      <th>HSE</th>\n",
       "      <th>HS</th>\n",
       "      <th>HSW</th>\n",
       "      <th>HW</th>\n",
       "      <th>HNW</th>\n",
       "      <th>...</th>\n",
       "      <th>MW_prev</th>\n",
       "      <th>MNW_prev</th>\n",
       "      <th>LN_prev</th>\n",
       "      <th>LNE_prev</th>\n",
       "      <th>LE_prev</th>\n",
       "      <th>LSE_prev</th>\n",
       "      <th>LS_prev</th>\n",
       "      <th>LSW_prev</th>\n",
       "      <th>LW_prev</th>\n",
       "      <th>LNW_prev</th>\n",
       "    </tr>\n",
       "  </thead>\n",
       "  <tbody>\n",
       "    <tr>\n",
       "      <th>0</th>\n",
       "      <td>2013-12-13</td>\n",
       "      <td>https://utahavalanchecenter.org/sites/default/...</td>\n",
       "      <td>3</td>\n",
       "      <td>3</td>\n",
       "      <td>3</td>\n",
       "      <td>2</td>\n",
       "      <td>2</td>\n",
       "      <td>2</td>\n",
       "      <td>3</td>\n",
       "      <td>3</td>\n",
       "      <td>...</td>\n",
       "      <td>0.0</td>\n",
       "      <td>0.0</td>\n",
       "      <td>0.0</td>\n",
       "      <td>0.0</td>\n",
       "      <td>0.0</td>\n",
       "      <td>0.0</td>\n",
       "      <td>0.0</td>\n",
       "      <td>0.0</td>\n",
       "      <td>0.0</td>\n",
       "      <td>0.0</td>\n",
       "    </tr>\n",
       "    <tr>\n",
       "      <th>1</th>\n",
       "      <td>2013-12-14</td>\n",
       "      <td>https://utahavalanchecenter.org/sites/default/...</td>\n",
       "      <td>2</td>\n",
       "      <td>2</td>\n",
       "      <td>2</td>\n",
       "      <td>2</td>\n",
       "      <td>2</td>\n",
       "      <td>2</td>\n",
       "      <td>2</td>\n",
       "      <td>2</td>\n",
       "      <td>...</td>\n",
       "      <td>2.0</td>\n",
       "      <td>2.0</td>\n",
       "      <td>1.0</td>\n",
       "      <td>1.0</td>\n",
       "      <td>1.0</td>\n",
       "      <td>1.0</td>\n",
       "      <td>1.0</td>\n",
       "      <td>1.0</td>\n",
       "      <td>1.0</td>\n",
       "      <td>1.0</td>\n",
       "    </tr>\n",
       "    <tr>\n",
       "      <th>2</th>\n",
       "      <td>2013-12-15</td>\n",
       "      <td>https://utahavalanchecenter.org/sites/default/...</td>\n",
       "      <td>2</td>\n",
       "      <td>2</td>\n",
       "      <td>2</td>\n",
       "      <td>2</td>\n",
       "      <td>2</td>\n",
       "      <td>2</td>\n",
       "      <td>2</td>\n",
       "      <td>2</td>\n",
       "      <td>...</td>\n",
       "      <td>2.0</td>\n",
       "      <td>2.0</td>\n",
       "      <td>1.0</td>\n",
       "      <td>1.0</td>\n",
       "      <td>1.0</td>\n",
       "      <td>1.0</td>\n",
       "      <td>1.0</td>\n",
       "      <td>1.0</td>\n",
       "      <td>1.0</td>\n",
       "      <td>1.0</td>\n",
       "    </tr>\n",
       "    <tr>\n",
       "      <th>3</th>\n",
       "      <td>2013-12-16</td>\n",
       "      <td>https://utahavalanchecenter.org/sites/default/...</td>\n",
       "      <td>2</td>\n",
       "      <td>2</td>\n",
       "      <td>2</td>\n",
       "      <td>2</td>\n",
       "      <td>2</td>\n",
       "      <td>2</td>\n",
       "      <td>2</td>\n",
       "      <td>2</td>\n",
       "      <td>...</td>\n",
       "      <td>2.0</td>\n",
       "      <td>2.0</td>\n",
       "      <td>1.0</td>\n",
       "      <td>1.0</td>\n",
       "      <td>1.0</td>\n",
       "      <td>1.0</td>\n",
       "      <td>1.0</td>\n",
       "      <td>1.0</td>\n",
       "      <td>1.0</td>\n",
       "      <td>1.0</td>\n",
       "    </tr>\n",
       "    <tr>\n",
       "      <th>4</th>\n",
       "      <td>2013-12-17</td>\n",
       "      <td>https://utahavalanchecenter.org/sites/default/...</td>\n",
       "      <td>2</td>\n",
       "      <td>2</td>\n",
       "      <td>2</td>\n",
       "      <td>1</td>\n",
       "      <td>1</td>\n",
       "      <td>1</td>\n",
       "      <td>2</td>\n",
       "      <td>2</td>\n",
       "      <td>...</td>\n",
       "      <td>2.0</td>\n",
       "      <td>2.0</td>\n",
       "      <td>1.0</td>\n",
       "      <td>1.0</td>\n",
       "      <td>1.0</td>\n",
       "      <td>1.0</td>\n",
       "      <td>1.0</td>\n",
       "      <td>1.0</td>\n",
       "      <td>1.0</td>\n",
       "      <td>1.0</td>\n",
       "    </tr>\n",
       "  </tbody>\n",
       "</table>\n",
       "<p>5 rows × 204 columns</p>\n",
       "</div>"
      ],
      "text/plain": [
       "         DATE                                                url  HN  HNE  HE  \\\n",
       "0  2013-12-13  https://utahavalanchecenter.org/sites/default/...   3    3   3   \n",
       "1  2013-12-14  https://utahavalanchecenter.org/sites/default/...   2    2   2   \n",
       "2  2013-12-15  https://utahavalanchecenter.org/sites/default/...   2    2   2   \n",
       "3  2013-12-16  https://utahavalanchecenter.org/sites/default/...   2    2   2   \n",
       "4  2013-12-17  https://utahavalanchecenter.org/sites/default/...   2    2   2   \n",
       "\n",
       "   HSE  HS  HSW  HW  HNW  ...  MW_prev  MNW_prev  LN_prev  LNE_prev  LE_prev  \\\n",
       "0    2   2    2   3    3  ...      0.0       0.0      0.0       0.0      0.0   \n",
       "1    2   2    2   2    2  ...      2.0       2.0      1.0       1.0      1.0   \n",
       "2    2   2    2   2    2  ...      2.0       2.0      1.0       1.0      1.0   \n",
       "3    2   2    2   2    2  ...      2.0       2.0      1.0       1.0      1.0   \n",
       "4    1   1    1   2    2  ...      2.0       2.0      1.0       1.0      1.0   \n",
       "\n",
       "   LSE_prev  LS_prev  LSW_prev  LW_prev  LNW_prev  \n",
       "0       0.0      0.0       0.0      0.0       0.0  \n",
       "1       1.0      1.0       1.0      1.0       1.0  \n",
       "2       1.0      1.0       1.0      1.0       1.0  \n",
       "3       1.0      1.0       1.0      1.0       1.0  \n",
       "4       1.0      1.0       1.0      1.0       1.0  \n",
       "\n",
       "[5 rows x 204 columns]"
      ]
     },
     "execution_count": 101,
     "metadata": {},
     "output_type": "execute_result"
    }
   ],
   "source": [
    "# Data\n",
    "df = pd.read_csv('resources/DATA.csv')\n",
    "\n",
    "# Target Columns\n",
    "target_columns = [\n",
    "    'HN',\n",
    "    'HNE',\n",
    "    'HE',\n",
    "    'HSE',\n",
    "    'HS',\n",
    "    'HSW',\n",
    "    'HW',\n",
    "    'HNW',\n",
    "    'MN',\n",
    "    'MNE',\n",
    "    'ME',\n",
    "    'MSE',\n",
    "    'MS',\n",
    "    'MSW',\n",
    "    'MW',\n",
    "    'MNW',\n",
    "    'LN',\n",
    "    'LNE',\n",
    "    'LE',\n",
    "    'LSE',\n",
    "    'LS',\n",
    "    'LSW',\n",
    "    'LW',\n",
    "    'LNW'\n",
    "]\n",
    "\n",
    "# Convert colors to numbers\n",
    "map = {\n",
    "    'gray': 0,\n",
    "    'green': 1,\n",
    "    'yellow': 2,\n",
    "    'orange': 3,\n",
    "    'red': 4,\n",
    "    'black': 5,    \n",
    "}\n",
    "\n",
    "# For target columns\n",
    "for col in target_columns:\n",
    "    df[col] = df[col].map(map)\n",
    "    \n",
    "input_columns = [\n",
    "    'ALTA_Precip_(tenths_mm)',\n",
    "    'ALTA_Snowfall_(mm)',\n",
    "    'ALTA_Snow_Depth_(mm)',\n",
    "    'ALTA_Max_Temp_(tenths_C)',\n",
    "    'ALTA_Min_Temp_(tenths_C)',\n",
    "    'ALTA_Multiday_Prec_Days',\n",
    "    'ALTA_Multiday_Snowfall_Days',\n",
    "    'ALTA_Multiday_Prec_Days_(tenths_mm)',\n",
    "    'ALTA_Multiday_Snowfall',\n",
    "    'ALTA_Temp_at_Observation_(tenths_C)',\n",
    "    'ALTA_Fog_Ice_Fog',\n",
    "    'ALTA_Heavy_Fog_Freezing_Fog',\n",
    "    'ALTA_Ice_Pellets_Sleet',\n",
    "    'ALTA_Hail',\n",
    "    'ALTA_Glaze_Rime',\n",
    "    'ALTA_Weather_Type_07',\n",
    "    'ALTA_Smoke_Haze',\n",
    "    'ALTA_Blowing_Drifting_Snow',\n",
    "    'ALTA_High_Winds',\n",
    "    'ALTA_Snow_Pellets_Ice_Crystals',\n",
    "    'BRIGHTON_Precip_(tenths_mm)',\n",
    "    'BRIGHTON_Snow_Depth_(mm)',\n",
    "    'BRIGHTON_Max_Temp_(tenths_C)',\n",
    "    'BRIGHTON_Min_Temp_(tenths_C)',\n",
    "    'BRIGHTON_Avg_Daily_Temp_(tenths_C)',\n",
    "    'BRIGHTON_Temp_at_Observation_(tenths_C)',\n",
    "    'BRIGHTON_Snow_on_Ground_(tenths_mm)',\n",
    "    'THAYNES_Precip_(tenths_mm)',\n",
    "    'THAYNES_Snow_Depth_(mm)',\n",
    "    'THAYNES_Max_Temp_(tenths_C)',\n",
    "    'THAYNES_Min_Temp_(tenths_C)',\n",
    "    'THAYNES_Avg_Daily_Temp_(tenths_C)',\n",
    "    'THAYNES_Temp_at_Observation_(tenths_C)',\n",
    "    'THAYNES_Snow_on_Ground_(tenths_mm)',\n",
    "    'PARLEY_SUMMIT_Precip_(tenths_mm)',\n",
    "    'PARLEY_SUMMIT_Snow_Depth_(mm)',\n",
    "    'PARLEY_SUMMIT_Max_Temp_(tenths_C)',\n",
    "    'PARLEY_SUMMIT_Min_Temp_(tenths_C)',\n",
    "    'PARLEY_SUMMIT_Temp_at_Observation_(tenths_C)',\n",
    "    'PARLEY_SUMMIT_Snow_on_Ground_(tenths_mm)'\n",
    "]\n",
    "\n",
    "# Select only input columns and target columns\n",
    "# df = df[input_columns + target_columns]\n",
    "\n",
    "# add previous columns\n",
    "for col in target_columns:\n",
    "    input_columns.append(col + '_prev')\n",
    "    df[col + '_prev'] = df[col].shift(1)\n",
    "\n",
    "# Fill NA with 0\n",
    "df = df.fillna(0)\n",
    "\n",
    "df.head()"
   ]
  },
  {
   "cell_type": "code",
   "execution_count": 15,
   "metadata": {},
   "outputs": [
    {
     "name": "stdout",
     "output_type": "stream",
     "text": [
      "DATE :  2013-12-13\n",
      "url :  https://utahavalanchecenter.org/sites/default/files/archive/advisory/print/advisory/salt-lake/20131213.html\n",
      "HN :  3\n",
      "HNE :  3\n",
      "HE :  3\n",
      "HSE :  2\n",
      "HS :  2\n",
      "HSW :  2\n",
      "HW :  3\n",
      "HNW :  3\n",
      "MN :  2\n",
      "MNE :  2\n",
      "ME :  2\n",
      "MSE :  1\n",
      "MS :  1\n",
      "MSW :  1\n",
      "MW :  2\n",
      "MNW :  2\n",
      "LN :  1\n",
      "LNE :  1\n",
      "LE :  1\n",
      "LSE :  1\n",
      "LS :  1\n",
      "LSW :  1\n",
      "LW :  1\n",
      "LNW :  1\n",
      "high :  2.625\n",
      "mid :  1.625\n",
      "low :  1.0\n",
      "problem_1_type :  Persistent Slab\n",
      "likelihood_1 :  2.0\n",
      "size_1 :  3.0\n",
      "HN1 :  orange\n",
      "HNE1 :  orange\n",
      "HE1 :  orange\n",
      "HSE1 :  green\n",
      "HS1 :  green\n",
      "HSW1 :  green\n",
      "HW1 :  orange\n",
      "HNW1 :  orange\n",
      "MN1 :  yellow\n",
      "MNE1 :  yellow\n",
      "ME1 :  yellow\n",
      "MSE1 :  green\n",
      "MS1 :  green\n",
      "MSW1 :  green\n",
      "MW1 :  yellow\n",
      "MNW1 :  yellow\n",
      "LN1 :  green\n",
      "LNE1 :  green\n",
      "LE1 :  green\n",
      "LSE1 :  green\n",
      "LS1 :  green\n",
      "LSW1 :  green\n",
      "LW1 :  green\n",
      "LNW1 :  green\n",
      "high1 :  0.0\n",
      "mid1 :  0.0\n",
      "low1 :  0.0\n",
      "problem_2_type :  Wind Slab\n",
      "likelihood_2 :  2.0\n",
      "size_2 :  2.0\n",
      "HN2 :  yellow\n",
      "HNE2 :  yellow\n",
      "HE2 :  yellow\n",
      "HSE2 :  yellow\n",
      "HS2 :  yellow\n",
      "HSW2 :  yellow\n",
      "HW2 :  yellow\n",
      "HNW2 :  yellow\n",
      "MN2 :  gray\n",
      "MNE2 :  gray\n",
      "ME2 :  gray\n",
      "MSE2 :  gray\n",
      "MS2 :  gray\n",
      "MSW2 :  gray\n",
      "MW2 :  gray\n",
      "MNW2 :  gray\n",
      "LN2 :  gray\n",
      "LNE2 :  gray\n",
      "LE2 :  gray\n",
      "LSE2 :  gray\n",
      "LS2 :  gray\n",
      "LSW2 :  gray\n",
      "LW2 :  gray\n",
      "LNW2 :  gray\n",
      "high2 :  0.0\n",
      "mid2 :  0.0\n",
      "low2 :  0.0\n",
      "problem_3_type :  0\n",
      "likelihood_3 :  0.0\n",
      "size_3 :  0.0\n",
      "HN3 :  0\n",
      "HNE3 :  0\n",
      "HE3 :  0\n",
      "HSE3 :  0\n",
      "HS3 :  0\n",
      "HSW3 :  0\n",
      "HW3 :  0\n",
      "HNW3 :  0\n",
      "MN3 :  0\n",
      "MNE3 :  0\n",
      "ME3 :  0\n",
      "MSE3 :  0\n",
      "MS3 :  0\n",
      "MSW3 :  0\n",
      "MW3 :  0\n",
      "MNW3 :  0\n",
      "LN3 :  0\n",
      "LNE3 :  0\n",
      "LE3 :  0\n",
      "LSE3 :  0\n",
      "LS3 :  0\n",
      "LSW3 :  0\n",
      "LW3 :  0\n",
      "LNW3 :  0\n",
      "high3 :  0.0\n",
      "mid3 :  0.0\n",
      "low3 :  0.0\n",
      "ALTA_Station :  USC00420072\n",
      "ALTA_Latitude :  40.59058\n",
      "ALTA_Longitude :  -111.63703\n",
      "ALTA_Elevation :  2654.8\n",
      "ALTA_Name :  ALTA, UT US\n",
      "ALTA_Precip_(tenths_mm) :  0.0\n",
      "ALTA_Snowfall_(mm) :  0.0\n",
      "ALTA_Snow_Depth_(mm) :  508.0\n",
      "ALTA_Max_Temp_(tenths_C) :  -44.0\n",
      "ALTA_Min_Temp_(tenths_C) :  -106.0\n",
      "ALTA_Multiday_Prec_Days :  0.0\n",
      "ALTA_Multiday_Snowfall_Days :  0.0\n",
      "ALTA_Multiday_Prec_Days_(tenths_mm) :  0.0\n",
      "ALTA_Multiday_Snowfall :  0.0\n",
      "ALTA_Temp_at_Observation_(tenths_C) :  -83.0\n",
      "ALTA_Fog_Ice_Fog :  0.0\n",
      "ALTA_Heavy_Fog_Freezing_Fog :  0.0\n",
      "ALTA_Ice_Pellets_Sleet :  0.0\n",
      "ALTA_Hail :  0.0\n",
      "ALTA_Glaze_Rime :  0.0\n",
      "ALTA_Weather_Type_07 :  0.0\n",
      "ALTA_Smoke_Haze :  0.0\n",
      "ALTA_Blowing_Drifting_Snow :  0.0\n",
      "ALTA_High_Winds :  0.0\n",
      "ALTA_Snow_Pellets_Ice_Crystals :  0.0\n",
      "BRIGHTON_Station :  USS0011J57S\n",
      "BRIGHTON_Latitude :  40.6\n",
      "BRIGHTON_Longitude :  -111.58\n",
      "BRIGHTON_Elevation :  2667.0\n",
      "BRIGHTON_Name :  BRIGHTON, UT US\n",
      "BRIGHTON_Precip_(tenths_mm) :  25.0\n",
      "BRIGHTON_Snow_Depth_(mm) :  533.0\n",
      "BRIGHTON_Max_Temp_(tenths_C) :  -24.0\n",
      "BRIGHTON_Min_Temp_(tenths_C) :  -87.0\n",
      "BRIGHTON_Avg_Daily_Temp_(tenths_C) :  -63.0\n",
      "BRIGHTON_Temp_at_Observation_(tenths_C) :  -79.0\n",
      "BRIGHTON_Snow_on_Ground_(tenths_mm) :  1194.0\n",
      "THAYNES_Station :  USS0011J56S\n",
      "THAYNES_Latitude :  40.62\n",
      "THAYNES_Longitude :  -111.53\n",
      "THAYNES_Elevation :  2813.3\n",
      "THAYNES_Name :  THAYNES CANYON, UT US\n",
      "THAYNES_Precip_(tenths_mm) :  51.0\n",
      "THAYNES_Snow_Depth_(mm) :  584.0\n",
      "THAYNES_Max_Temp_(tenths_C) :  -11.0\n",
      "THAYNES_Min_Temp_(tenths_C) :  -84.0\n",
      "THAYNES_Avg_Daily_Temp_(tenths_C) :  -54.0\n",
      "THAYNES_Temp_at_Observation_(tenths_C) :  -72.0\n",
      "THAYNES_Snow_on_Ground_(tenths_mm) :  1245.0\n",
      "PARLEY_SUMMIT_Station :  USS0011J52S\n",
      "PARLEY_SUMMIT_Latitude :  40.76\n",
      "PARLEY_SUMMIT_Longitude :  -111.63\n",
      "PARLEY_SUMMIT_Elevation :  2286.0\n",
      "PARLEY_SUMMIT_Name :  PARLEY S SUMMIT, UT US\n",
      "PARLEY_SUMMIT_Precip_(tenths_mm) :  0.0\n",
      "PARLEY_SUMMIT_Snow_Depth_(mm) :  432.0\n",
      "PARLEY_SUMMIT_Max_Temp_(tenths_C) :  -21.0\n",
      "PARLEY_SUMMIT_Min_Temp_(tenths_C) :  -71.0\n",
      "PARLEY_SUMMIT_Avg_Daily_Temp_(tenths_C) :  -47.0\n",
      "PARLEY_SUMMIT_Temp_at_Observation_(tenths_C) :  -64.0\n",
      "PARLEY_SUMMIT_Snow_on_Ground_(tenths_mm) :  914.0\n",
      "HN_prev :  0.0\n",
      "HNE_prev :  0.0\n",
      "HE_prev :  0.0\n",
      "HSE_prev :  0.0\n",
      "HS_prev :  0.0\n",
      "HSW_prev :  0.0\n",
      "HW_prev :  0.0\n",
      "HNW_prev :  0.0\n",
      "MN_prev :  0.0\n",
      "MNE_prev :  0.0\n",
      "ME_prev :  0.0\n",
      "MSE_prev :  0.0\n",
      "MS_prev :  0.0\n",
      "MSW_prev :  0.0\n",
      "MW_prev :  0.0\n",
      "MNW_prev :  0.0\n",
      "LN_prev :  0.0\n",
      "LNE_prev :  0.0\n",
      "LE_prev :  0.0\n",
      "LSE_prev :  0.0\n",
      "LS_prev :  0.0\n",
      "LSW_prev :  0.0\n",
      "LW_prev :  0.0\n",
      "LNW_prev :  0.0\n"
     ]
    }
   ],
   "source": [
    "# output the first row\n",
    "for col, val in zip(df.columns, df.iloc[0]):\n",
    "    print(col, \": \", val)"
   ]
  },
  {
   "cell_type": "markdown",
   "metadata": {},
   "source": [
    "# MLP"
   ]
  },
  {
   "cell_type": "code",
   "execution_count": 102,
   "metadata": {},
   "outputs": [],
   "source": [
    "from torch.utils.data import Dataset, DataLoader\n",
    "from sklearn.model_selection import train_test_split\n",
    "\n",
    "# Create Dataloaders\n",
    "class AvalancheDataset(Dataset):\n",
    "    def __init__(self, df, train=True):\n",
    "        self.df = df\n",
    "        self.train = train\n",
    "        self.input_columns = input_columns\n",
    "        self.target_columns = target_columns\n",
    "        # Make X and y (np arrays)\n",
    "        X = df[self.input_columns].values.astype(np.float32)\n",
    "        y = df[self.target_columns].values.astype(np.float32)\n",
    "        \n",
    "        # Mean for each row\n",
    "        avalanche_risk = np.mean(y, axis=1).round().astype(int)\n",
    "        y = np.zeros((len(avalanche_risk), 6))\n",
    "        y[np.arange(len(avalanche_risk)), avalanche_risk] = 1\n",
    "        \n",
    "        # Split into train and test\n",
    "        self.X_train, self.X_test, self.y_train, self.y_test = train_test_split(X, y, test_size=0.2)\n",
    "        \n",
    "        \n",
    "    def __len__(self):\n",
    "        if self.train:\n",
    "            return len(self.X_train)\n",
    "        else:\n",
    "            return len(self.X_test)\n",
    "        \n",
    "    \n",
    "    def __getitem__(self, idx):\n",
    "        if self.train:\n",
    "            return self.X_train[idx], self.y_train[idx]\n",
    "        else:\n",
    "            return self.X_test[idx], self.y_test[idx]"
   ]
  },
  {
   "cell_type": "code",
   "execution_count": 103,
   "metadata": {},
   "outputs": [],
   "source": [
    "# Model\n",
    "# A simple multi-layer perceptron with parameters controlling the number of layers and hidden units per layer.\n",
    "class SingleLayer(nn.Module):\n",
    "    def __init__(self, input_size, output_size):\n",
    "        super(SingleLayer, self).__init__()\n",
    "        self.linear = nn.Linear(input_size, output_size)\n",
    "        self.norm = nn.BatchNorm1d(output_size)\n",
    "        self.relu = nn.ReLU()\n",
    "\n",
    "    def forward(self, x):\n",
    "        x = self.linear(x)\n",
    "        x = self.norm(x)\n",
    "        x = self.relu(x)\n",
    "        return x\n",
    "\n",
    "class AvalancheModel(nn.Module):\n",
    "    def __init__(self, input_size, output_size, hidden_size=128, hidden_layers=2):\n",
    "        super(AvalancheModel, self).__init__()\n",
    "        self.input_size = input_size\n",
    "        self.output_size = output_size\n",
    "        self.hidden_size = hidden_size\n",
    "        self.hidden_layers = hidden_layers\n",
    "        \n",
    "        self.layers = nn.ModuleList()\n",
    "        self.layers.append(SingleLayer(input_size, hidden_size))\n",
    "        for i in range(hidden_layers):\n",
    "            self.layers.append(SingleLayer(hidden_size, hidden_size))\n",
    "        self.layers.append(SingleLayer(hidden_size, output_size))\n",
    "        \n",
    "    def forward(self, x):\n",
    "        \"\"\"\n",
    "        x: (batch_size, input_size)\n",
    "        returns: (batch_size, output_size)\n",
    "        \"\"\"\n",
    "        for layer in self.layers:\n",
    "            x = layer(x)\n",
    "        return F.softmax(x, dim=1)"
   ]
  },
  {
   "cell_type": "code",
   "execution_count": 8,
   "metadata": {},
   "outputs": [
    {
     "name": "stdout",
     "output_type": "stream",
     "text": [
      "cuda:0\n"
     ]
    }
   ],
   "source": [
    "device = torch.device(\"cuda:0\" if torch.cuda.is_available() else \"cpu\")\n",
    "print(device)"
   ]
  },
  {
   "cell_type": "code",
   "execution_count": 104,
   "metadata": {},
   "outputs": [],
   "source": [
    "# Initialize Variables\n",
    "batch_size = 32\n",
    "train_dataset = AvalancheDataset(df)\n",
    "test_dataset = AvalancheDataset(df, train=False)\n",
    "train_dataloader = DataLoader(train_dataset, batch_size=batch_size, shuffle=True)\n",
    "test_dataloader = DataLoader(test_dataset, batch_size=batch_size, shuffle=True)\n",
    "# model = AvalancheModel(len(input_columns), 6, hidden_size=64, hidden_layers=8)\n",
    "model = AvalancheModel(len(input_columns), 6, hidden_size=128, hidden_layers=16)\n",
    "model.to(device)\n",
    "criterion = nn.CrossEntropyLoss()\n",
    "optimizer = optim.Adam(model.parameters(), lr=0.0001)"
   ]
  },
  {
   "cell_type": "code",
   "execution_count": 105,
   "metadata": {},
   "outputs": [],
   "source": [
    "def calculate_accuracy(y_pred, y, dim=1):\n",
    "    # both are (batch_size, 6)\n",
    "    y_pred = torch.argmax(y_pred, dim=dim)\n",
    "    y = torch.argmax(y, dim=1)\n",
    "    return (y_pred == y).sum().item() / y_pred.shape[0]"
   ]
  },
  {
   "cell_type": "code",
   "execution_count": 106,
   "metadata": {},
   "outputs": [
    {
     "name": "stderr",
     "output_type": "stream",
     "text": [
      "Epochs: 100%|██████████| 100/100 [01:58<00:00,  1.18s/epoch, Loss: 1.6388]\n"
     ]
    }
   ],
   "source": [
    "# Train Model\n",
    "from tqdm.auto import tqdm\n",
    "from time import sleep\n",
    "num_epochs = 100\n",
    "total_step = len(train_dataloader)\n",
    "\n",
    "losses = []\n",
    "accuracies = []\n",
    "val_losses = []\n",
    "val_accuracies = []\n",
    "with tqdm(range(num_epochs), desc=\"Epochs\", total=num_epochs, leave=True, position=0, unit='epoch') as iterator:\n",
    "    for epoch in iterator:\n",
    "        # tqdm.set_description_str(f\"Epoch {epoch+1}\")\n",
    "        for i, (X, y) in enumerate(train_dataloader):\n",
    "            # Move tensors to the configured device\n",
    "            X = X.to(device)\n",
    "            y = y.to(device)\n",
    "            # print(X.shape, y.shape)\n",
    "            # break\n",
    "            \n",
    "            # # Forward pass\n",
    "            y_pred = model(X)\n",
    "            \n",
    "            # print(y_pred.shape)\n",
    "            loss = criterion(y_pred, y)\n",
    "            losses.append(loss.item())\n",
    "            accuracy = calculate_accuracy(y_pred, y)\n",
    "            accuracies.append(accuracy)\n",
    "            \n",
    "            # break\n",
    "                                         \n",
    "            # # Backward and optimize\n",
    "            optimizer.zero_grad()\n",
    "            loss.backward()\n",
    "            \n",
    "            optimizer.step()\n",
    "\n",
    "            iterator.set_postfix_str(f\"Loss: {loss.item():.4f}\")\n",
    "            if i % 10 == 0: \n",
    "                tmp_val_losses = []\n",
    "                tmp_val_accuracies = []\n",
    "                for X, y in test_dataloader:\n",
    "                    X = X.to(device)\n",
    "                    y = y.to(device)\n",
    "                    y_pred = model(X)\n",
    "                    val_loss = criterion(y_pred, y)\n",
    "                    tmp_val_losses.append(val_loss.item())\n",
    "                    val_accuracy = calculate_accuracy(y_pred, y)\n",
    "                    tmp_val_accuracies.append(val_accuracy)\n",
    "                val_losses.append(np.mean(tmp_val_losses))\n",
    "                val_accuracies.append(np.mean(tmp_val_accuracies))\n",
    "                # iterator.set_description_str(f\"Val Loss: {np.mean(val_losses):.4f}\")      \n"
   ]
  },
  {
   "cell_type": "code",
   "execution_count": 107,
   "metadata": {},
   "outputs": [
    {
     "data": {
      "text/plain": [
       "[<matplotlib.lines.Line2D at 0x211c5814550>]"
      ]
     },
     "execution_count": 107,
     "metadata": {},
     "output_type": "execute_result"
    },
    {
     "data": {
      "image/png": "[encoded data removed]",
      "text/plain": [
       "<Figure size 640x480 with 1 Axes>"
      ]
     },
     "metadata": {},
     "output_type": "display_data"
    }
   ],
   "source": [
    "# Plot Results\n",
    "# Plot Loss\n",
    "import matplotlib.pyplot as plt\n",
    "plt.plot(val_accuracies)"
   ]
  },
  {
   "cell_type": "code",
   "execution_count": 108,
   "metadata": {},
   "outputs": [
    {
     "name": "stdout",
     "output_type": "stream",
     "text": [
      "Mean Validation Accuracy:  0.6694940476190476\n"
     ]
    }
   ],
   "source": [
    "val_accuracies = []\n",
    "for X, y in test_dataloader:\n",
    "    X = X.to(device)\n",
    "    y = y.to(device)\n",
    "    y_pred = model(X)\n",
    "    val_accuracy = calculate_accuracy(y_pred, y)\n",
    "    val_accuracies.append(val_accuracy)\n",
    "print(\"Mean Validation Accuracy: \", np.mean(val_accuracies))"
   ]
  },
  {
   "cell_type": "code",
   "execution_count": 13,
   "metadata": {},
   "outputs": [],
   "source": [
    "# GRU Data\n",
    "# Create a Dataloader for GRU by chunking the data\n",
    "# Output: An average risk\n",
    "class AvalancheGRUDataset(Dataset):\n",
    "    def __init__(self, df, chunk_size=16, chunks=100, train=True):\n",
    "        self.df = df\n",
    "        self.train = train\n",
    "        self.input_columns = input_columns\n",
    "        self.target_columns = target_columns\n",
    "        self.chunk_size = chunk_size\n",
    "        self.chunks = chunks\n",
    "        \n",
    "        # Make X and y (np arrays)\n",
    "        X = df[self.input_columns].values.astype(np.float32)\n",
    "        y = df[self.target_columns].values.astype(np.float32)\n",
    "        \n",
    "        # Mean for each row / Hot encode\n",
    "        avalanche_risk = np.mean(y, axis=1).round().astype(int)\n",
    "        y = np.zeros((len(avalanche_risk), 6))\n",
    "        y[np.arange(len(avalanche_risk)), avalanche_risk] = 1\n",
    "        X = torch.from_numpy(X)\n",
    "        y = torch.from_numpy(y)\n",
    "        \n",
    "        # Split\n",
    "        train_ratio = 0.8\n",
    "        train_size = int(len(X) * train_ratio)\n",
    "        self.X_train = X[:train_size]\n",
    "        self.y_train = y[:train_size]\n",
    "        self.X_test = X[train_size:]\n",
    "        self.y_test = y[train_size:]\n",
    "        \n",
    "        \n",
    "    def __len__(self):\n",
    "        return self.chunks\n",
    "        \n",
    "        \n",
    "    def __getitem__(self, idx):\n",
    "        if self.train:\n",
    "            random_idx = np.random.randint(0, len(self.X_train) - self.chunk_size)\n",
    "            return self.X_train[random_idx:random_idx+self.chunk_size], self.y_train[random_idx:random_idx+self.chunk_size]\n",
    "        else:\n",
    "            random_idx = np.random.randint(0, len(self.X_test) - self.chunk_size)\n",
    "            return self.X_test[random_idx:random_idx+self.chunk_size], self.y_test[random_idx:random_idx+self.chunk_size]"
   ]
  },
  {
   "cell_type": "code",
   "execution_count": 14,
   "metadata": {},
   "outputs": [],
   "source": [
    "# GRU Model\n",
    "class AvalancheGRU(nn.Module):\n",
    "    def __init__(self, input_size, output_size, hidden_size=128, hidden_layers=2):\n",
    "        super(AvalancheGRU, self).__init__()\n",
    "        self.input_size = input_size\n",
    "        self.output_size = output_size\n",
    "        self.hidden_size = hidden_size\n",
    "        self.hidden_layers = hidden_layers\n",
    "        \n",
    "        # self.linear1 = nn.Linear(input_size, hidden_size)\n",
    "        # self.relu1 = nn.ReLU()\n",
    "        self.gru = nn.GRU(input_size, hidden_size, hidden_layers, batch_first=True, dropout=0.2)\n",
    "        self.relu2 = nn.ReLU()\n",
    "        self.linear2 = nn.Linear(hidden_size, output_size)\n",
    "        self.softmax = nn.Softmax(dim=0)\n",
    "        \n",
    "        \n",
    "    def forward(self, x, hidden):\n",
    "        \"\"\"\n",
    "        x: (batch_size, seq_len, input_size)\n",
    "        returns: (batch_size, output_size)\n",
    "        \"\"\"\n",
    "        # x = self.linear1(x)\n",
    "        # x = self.relu1(x)\n",
    "        x, hidden = self.gru(x, hidden)\n",
    "        x = self.relu2(x[:, -1])\n",
    "        x = self.linear2(x)\n",
    "        x = self.softmax(x)\n",
    "        \n",
    "        return x, hidden\n",
    "    \n",
    "    def init_hidden(self):\n",
    "        return torch.zeros(self.hidden_layers, self.hidden_size)"
   ]
  },
  {
   "cell_type": "code",
   "execution_count": 51,
   "metadata": {},
   "outputs": [],
   "source": [
    "# Initialize Variables\n",
    "batch_size = 1\n",
    "train_dataset = AvalancheGRUDataset(df, chunks=80, chunk_size=16, train=True)\n",
    "test_dataset = AvalancheGRUDataset(df, chunks=20, chunk_size=16, train=False)\n",
    "train_dataloader = DataLoader(train_dataset, batch_size=1, shuffle=False)\n",
    "test_dataloader = DataLoader(test_dataset, batch_size=1, shuffle=False)\n",
    "model = AvalancheGRU(len(input_columns), 6, hidden_size=8, hidden_layers=2)\n",
    "model.to(device)\n",
    "criterion = nn.CrossEntropyLoss()\n",
    "optimizer = optim.Adam(model.parameters(), lr=0.001)"
   ]
  },
  {
   "cell_type": "code",
   "execution_count": 52,
   "metadata": {},
   "outputs": [],
   "source": [
    "# Train Model\n",
    "import gc\n",
    "def train(model, train_dataloader, test_dataloader, criterion, optimizer, num_epochs=1):\n",
    "    total_step = len(train_dataloader)\n",
    "\n",
    "    losses = []\n",
    "    accuracies = []\n",
    "    val_losses = []\n",
    "    val_accuracies = []\n",
    "    # with tqdm(range(num_epochs), desc=\"Epochs\", total=num_epochs, leave=True, position=0, unit='epoch') as iterator:\n",
    "    for epoch in range(num_epochs):\n",
    "        print(f\"Epoch {epoch+1}\")\n",
    "        with tqdm(enumerate(train_dataloader), desc=\"Batches\", total=len(train_dataloader), leave=True, position=0, unit='batch') as iterator:\n",
    "            for i, (X, y) in iterator: # this is just the number of chunks\n",
    "                # if i % 10 == 0:\n",
    "                #     print(f\"Batch {i}\")\n",
    "                X = X.to(device).squeeze(0)\n",
    "                y = y.to(device).squeeze(0)\n",
    "                # print('X shape', X.shape)\n",
    "                # print('y shape', y.shape)\n",
    "                # break\n",
    "                \n",
    "                # Full Forward Pass\n",
    "                # print(\"Starting Forward Pass\")\n",
    "                hidden = model.init_hidden().to(device)\n",
    "                optimizer.zero_grad()\n",
    "                y_pred, hidden = model(X, hidden)\n",
    "                # print('y_pred: ', y_pred.shape)\n",
    "                # print('y: ', y[-1].shape)\n",
    "                # break\n",
    "                loss = criterion(y_pred, y[-1])\n",
    "                \n",
    "                    \n",
    "                # Back Pass\n",
    "                # print(\"Starting Backward Pass\")\n",
    "                loss.backward()\n",
    "                optimizer.step()\n",
    "                gc.collect()\n",
    "                \n",
    "                losses.append(loss.item())\n",
    "                # print(y_pred.shape)\n",
    "                # print(y[-1].shape)\n",
    "                pred = torch.argmax(y_pred)\n",
    "                real = torch.argmax(y[-1])\n",
    "                accuracy = (pred == real).sum().item() # 0 or 1\n",
    "                accuracies.append(accuracy)\n",
    "\n",
    "                \n",
    "                # accuracies.append(accuracy)\n",
    "                iterator.set_postfix_str(f\"Loss: {loss.item():.4f}\")\n",
    "                \n",
    "                # Validation\n",
    "                if i % 10 == 0:\n",
    "                    tmp_val_accuracies = []\n",
    "                    tmp_val_losses = []\n",
    "                    for X, y in test_dataloader:\n",
    "                        X = X.to(device).squeeze(0)\n",
    "                        y = y.to(device).squeeze(0)\n",
    "                        hidden = model.init_hidden().to(device)\n",
    "                        y_pred, hidden = model(X, hidden)\n",
    "                        val_loss = criterion(y_pred, y[-1])\n",
    "                        tmp_val_losses.append(val_loss.item())\n",
    "                        # val_accuracy = calculate_accuracy(y_pred, y[-1])\n",
    "                        # tmp_val_accuracies.append(val_accuracy)\n",
    "                        pred = torch.argmax(y_pred)\n",
    "                        real = torch.argmax(y[-1])\n",
    "                        accuracy = (pred == real).sum().item() # 0 or 1\n",
    "                        tmp_val_accuracies.append(accuracy)\n",
    "                    val_losses.append(np.mean(tmp_val_losses))\n",
    "                    val_accuracies.append(np.mean(tmp_val_accuracies))\n",
    "                \n",
    "                \n",
    "                # if i % 10 == 0 and i != 0: \n",
    "                #     tmp_val_losses = []\n",
    "                #     tmp_val_accuracies = []\n",
    "                #     # print(len(test_dataloader))\n",
    "                #     with tqdm(enumerate(test_dataloader), desc=\"Val Batches\", total=len(test_dataloader), leave=True, position=1, unit='batch') as test_iter:\n",
    "                #         for j, (X, y) in test_iter:\n",
    "                #             # print(i)\n",
    "                #             X = X.to(device)\n",
    "                #             y = y.to(device)\n",
    "                #             hidden = model.init_hidden().to(device)\n",
    "                #             val_loss = 0\n",
    "                #             y_pred, hidden = None, None\n",
    "                #             for j in range(X.shape[0]):\n",
    "                #                 y_pred, hidden = model(X[j].unsqueeze(0), hidden)\n",
    "                #                 val_loss += criterion(y_pred, y[j].unsqueeze(0))\n",
    "                #             tmp_val_losses.append(val_loss.item())\n",
    "                #             val_accuracy = calculate_accuracy(y_pred, y[-1].unsqueeze(0))\n",
    "                #             tmp_val_accuracies.append(val_accuracy)\n",
    "                #             test_iter.set_postfix_str(f\"Val Loss: {np.mean(tmp_val_losses):.4f}\")\n",
    "                #     val_losses.append(np.mean(tmp_val_losses))\n",
    "                #     val_accuracies.append(np.mean(tmp_val_accuracies))\n",
    "                #     iterator.set_description_str(f\"Val Loss: {np.mean(val_losses):.4f}\")   \n",
    "                #     gc.collect()\n",
    "    return losses, accuracies, val_losses, val_accuracies   "
   ]
  },
  {
   "cell_type": "code",
   "execution_count": 53,
   "metadata": {},
   "outputs": [
    {
     "name": "stdout",
     "output_type": "stream",
     "text": [
      "Epoch 1\n"
     ]
    },
    {
     "name": "stderr",
     "output_type": "stream",
     "text": [
      "Batches: 100%|██████████| 80/80 [00:14<00:00,  5.63batch/s, Loss: 1.7682]\n"
     ]
    },
    {
     "name": "stdout",
     "output_type": "stream",
     "text": [
      "Epoch 2\n"
     ]
    },
    {
     "name": "stderr",
     "output_type": "stream",
     "text": [
      "Batches: 100%|██████████| 80/80 [00:13<00:00,  5.75batch/s, Loss: 1.7749]\n"
     ]
    },
    {
     "name": "stdout",
     "output_type": "stream",
     "text": [
      "Epoch 3\n"
     ]
    },
    {
     "name": "stderr",
     "output_type": "stream",
     "text": [
      "Batches: 100%|██████████| 80/80 [00:14<00:00,  5.67batch/s, Loss: 1.6216]\n"
     ]
    },
    {
     "name": "stdout",
     "output_type": "stream",
     "text": [
      "Epoch 4\n"
     ]
    },
    {
     "name": "stderr",
     "output_type": "stream",
     "text": [
      "Batches: 100%|██████████| 80/80 [00:14<00:00,  5.50batch/s, Loss: 1.8680]\n"
     ]
    },
    {
     "name": "stdout",
     "output_type": "stream",
     "text": [
      "Epoch 5\n"
     ]
    },
    {
     "name": "stderr",
     "output_type": "stream",
     "text": [
      "Batches: 100%|██████████| 80/80 [00:13<00:00,  5.84batch/s, Loss: 1.4848]\n"
     ]
    },
    {
     "name": "stdout",
     "output_type": "stream",
     "text": [
      "Epoch 6\n"
     ]
    },
    {
     "name": "stderr",
     "output_type": "stream",
     "text": [
      "Batches: 100%|██████████| 80/80 [00:13<00:00,  5.72batch/s, Loss: 1.6553]\n"
     ]
    },
    {
     "name": "stdout",
     "output_type": "stream",
     "text": [
      "Epoch 7\n"
     ]
    },
    {
     "name": "stderr",
     "output_type": "stream",
     "text": [
      "Batches: 100%|██████████| 80/80 [00:13<00:00,  5.81batch/s, Loss: 1.3356]\n"
     ]
    },
    {
     "name": "stdout",
     "output_type": "stream",
     "text": [
      "Epoch 8\n"
     ]
    },
    {
     "name": "stderr",
     "output_type": "stream",
     "text": [
      "Batches: 100%|██████████| 80/80 [00:14<00:00,  5.61batch/s, Loss: 1.3185]\n"
     ]
    },
    {
     "name": "stdout",
     "output_type": "stream",
     "text": [
      "Epoch 9\n"
     ]
    },
    {
     "name": "stderr",
     "output_type": "stream",
     "text": [
      "Batches: 100%|██████████| 80/80 [00:13<00:00,  5.77batch/s, Loss: 1.2611]\n"
     ]
    },
    {
     "name": "stdout",
     "output_type": "stream",
     "text": [
      "Epoch 10\n"
     ]
    },
    {
     "name": "stderr",
     "output_type": "stream",
     "text": [
      "Batches: 100%|██████████| 80/80 [00:13<00:00,  5.76batch/s, Loss: 1.7611]\n"
     ]
    },
    {
     "name": "stdout",
     "output_type": "stream",
     "text": [
      "Epoch 11\n"
     ]
    },
    {
     "name": "stderr",
     "output_type": "stream",
     "text": [
      "Batches: 100%|██████████| 80/80 [00:14<00:00,  5.71batch/s, Loss: 1.9645]\n"
     ]
    },
    {
     "name": "stdout",
     "output_type": "stream",
     "text": [
      "Epoch 12\n"
     ]
    },
    {
     "name": "stderr",
     "output_type": "stream",
     "text": [
      "Batches: 100%|██████████| 80/80 [00:14<00:00,  5.62batch/s, Loss: 1.2652]\n"
     ]
    },
    {
     "name": "stdout",
     "output_type": "stream",
     "text": [
      "Epoch 13\n"
     ]
    },
    {
     "name": "stderr",
     "output_type": "stream",
     "text": [
      "Batches: 100%|██████████| 80/80 [00:16<00:00,  4.97batch/s, Loss: 1.7894]\n"
     ]
    },
    {
     "name": "stdout",
     "output_type": "stream",
     "text": [
      "Epoch 14\n"
     ]
    },
    {
     "name": "stderr",
     "output_type": "stream",
     "text": [
      "Batches: 100%|██████████| 80/80 [00:16<00:00,  4.99batch/s, Loss: 1.9842]\n"
     ]
    },
    {
     "name": "stdout",
     "output_type": "stream",
     "text": [
      "Epoch 15\n"
     ]
    },
    {
     "name": "stderr",
     "output_type": "stream",
     "text": [
      "Batches: 100%|██████████| 80/80 [00:14<00:00,  5.44batch/s, Loss: 1.1795]\n"
     ]
    },
    {
     "name": "stdout",
     "output_type": "stream",
     "text": [
      "Epoch 16\n"
     ]
    },
    {
     "name": "stderr",
     "output_type": "stream",
     "text": [
      "Batches: 100%|██████████| 80/80 [00:14<00:00,  5.71batch/s, Loss: 1.8802]\n"
     ]
    },
    {
     "name": "stdout",
     "output_type": "stream",
     "text": [
      "Epoch 17\n"
     ]
    },
    {
     "name": "stderr",
     "output_type": "stream",
     "text": [
      "Batches: 100%|██████████| 80/80 [00:14<00:00,  5.64batch/s, Loss: 1.1668]\n"
     ]
    },
    {
     "name": "stdout",
     "output_type": "stream",
     "text": [
      "Epoch 18\n"
     ]
    },
    {
     "name": "stderr",
     "output_type": "stream",
     "text": [
      "Batches: 100%|██████████| 80/80 [00:14<00:00,  5.65batch/s, Loss: 1.1505]\n"
     ]
    },
    {
     "name": "stdout",
     "output_type": "stream",
     "text": [
      "Epoch 19\n"
     ]
    },
    {
     "name": "stderr",
     "output_type": "stream",
     "text": [
      "Batches: 100%|██████████| 80/80 [00:14<00:00,  5.57batch/s, Loss: 2.0174]\n"
     ]
    },
    {
     "name": "stdout",
     "output_type": "stream",
     "text": [
      "Epoch 20\n"
     ]
    },
    {
     "name": "stderr",
     "output_type": "stream",
     "text": [
      "Batches: 100%|██████████| 80/80 [00:14<00:00,  5.34batch/s, Loss: 1.9094]\n"
     ]
    }
   ],
   "source": [
    "losses, accuracies, val_losses, val_accuracies = train(model, train_dataloader, test_dataloader, criterion, optimizer, num_epochs=20)"
   ]
  },
  {
   "cell_type": "code",
   "execution_count": 19,
   "metadata": {},
   "outputs": [],
   "source": [
    "import matplotlib.pyplot as plt"
   ]
  },
  {
   "cell_type": "code",
   "execution_count": 54,
   "metadata": {},
   "outputs": [
    {
     "data": {
      "text/plain": [
       "[<matplotlib.lines.Line2D at 0x2b90509f0d0>]"
      ]
     },
     "execution_count": 54,
     "metadata": {},
     "output_type": "execute_result"
    },
    {
     "data": {
      "image/png": "[encoded data removed]",
      "text/plain": [
       "<Figure size 640x480 with 1 Axes>"
      ]
     },
     "metadata": {},
     "output_type": "display_data"
    }
   ],
   "source": [
    "plt.plot(losses)"
   ]
  },
  {
   "cell_type": "code",
   "execution_count": 55,
   "metadata": {},
   "outputs": [
    {
     "data": {
      "text/plain": [
       "[<matplotlib.lines.Line2D at 0x2b905399350>]"
      ]
     },
     "execution_count": 55,
     "metadata": {},
     "output_type": "execute_result"
    },
    {
     "data": {
      "image/png": "[encoded data removed]",
      "text/plain": [
       "<Figure size 640x480 with 1 Axes>"
      ]
     },
     "metadata": {},
     "output_type": "display_data"
    }
   ],
   "source": [
    "# Plot a moving average losses\n",
    "def moving_average(x, w):\n",
    "    return np.convolve(x, np.ones(w), 'valid') / w\n",
    "plt.plot(moving_average(losses, 80))"
   ]
  },
  {
   "cell_type": "code",
   "execution_count": 56,
   "metadata": {},
   "outputs": [
    {
     "data": {
      "text/plain": [
       "[<matplotlib.lines.Line2D at 0x2b905409510>]"
      ]
     },
     "execution_count": 56,
     "metadata": {},
     "output_type": "execute_result"
    },
    {
     "data": {
      "image/png": "[encoded data removed]",
      "text/plain": [
       "<Figure size 640x480 with 1 Axes>"
      ]
     },
     "metadata": {},
     "output_type": "display_data"
    }
   ],
   "source": [
    "# Accuracies are either 0 or 1, so lets create a moving average with window 20\n",
    "def moving_average(x, w):\n",
    "    return np.convolve(x, np.ones(w), 'valid') / w\n",
    "\n",
    "plt.plot(moving_average(accuracies, 32))"
   ]
  },
  {
   "cell_type": "code",
   "execution_count": 57,
   "metadata": {},
   "outputs": [
    {
     "data": {
      "text/plain": [
       "[<matplotlib.lines.Line2D at 0x2b90532b550>]"
      ]
     },
     "execution_count": 57,
     "metadata": {},
     "output_type": "execute_result"
    },
    {
     "data": {
      "image/png": "[encoded data removed]",
      "text/plain": [
       "<Figure size 640x480 with 1 Axes>"
      ]
     },
     "metadata": {},
     "output_type": "display_data"
    }
   ],
   "source": [
    "# Plot Results\n",
    "# Plot Loss\n",
    "plt.plot(val_accuracies)"
   ]
  },
  {
   "cell_type": "code",
   "execution_count": 128,
   "metadata": {},
   "outputs": [
    {
     "name": "stdout",
     "output_type": "stream",
     "text": [
      "Max Validation Accuracy:  0.4025\n"
     ]
    }
   ],
   "source": [
    "# Print Max Accuracy\n",
    "print(\"Max Validation Accuracy: \", np.max(val_accuracies))"
   ]
  },
  {
   "cell_type": "markdown",
   "metadata": {},
   "source": [
    "# GRU"
   ]
  },
  {
   "cell_type": "code",
   "execution_count": 295,
   "metadata": {},
   "outputs": [
    {
     "name": "stdout",
     "output_type": "stream",
     "text": [
      "(1543, 6)\n"
     ]
    }
   ],
   "source": [
    "import pandas as pd\n",
    "import numpy as np\n",
    "from sklearn.model_selection import train_test_split\n",
    "\n",
    "# Data\n",
    "df = pd.read_csv('resources/DATA.csv')\n",
    "\n",
    "# Target Columns\n",
    "target_columns = [\n",
    "    'HN',\n",
    "    'HNE',\n",
    "    'HE',\n",
    "    'HSE',\n",
    "    'HS',\n",
    "    'HSW',\n",
    "    'HW',\n",
    "    'HNW',\n",
    "    'MN',\n",
    "    'MNE',\n",
    "    'ME',\n",
    "    'MSE',\n",
    "    'MS',\n",
    "    'MSW',\n",
    "    'MW',\n",
    "    'MNW',\n",
    "    'LN',\n",
    "    'LNE',\n",
    "    'LE',\n",
    "    'LSE',\n",
    "    'LS',\n",
    "    'LSW',\n",
    "    'LW',\n",
    "    'LNW'\n",
    "]\n",
    "\n",
    "# Convert colors to numbers\n",
    "map = {\n",
    "    'gray': 0,\n",
    "    'green': 1,\n",
    "    'yellow': 2,\n",
    "    'orange': 3,\n",
    "    'red': 4,\n",
    "    'black': 5,    \n",
    "}\n",
    "\n",
    "# For target columns\n",
    "for col in target_columns:\n",
    "    df[col] = df[col].map(map)\n",
    "\n",
    "# Make a new column be the max risk of the target columns\n",
    "df['max_risk'] = df[target_columns].max(axis=1)\n",
    "target_columns += ['max_risk']\n",
    "    \n",
    "input_columns = [\n",
    "    'ALTA_Precip_(tenths_mm)',\n",
    "    'ALTA_Snowfall_(mm)',\n",
    "    'ALTA_Snow_Depth_(mm)',\n",
    "    'ALTA_Max_Temp_(tenths_C)',\n",
    "    'ALTA_Min_Temp_(tenths_C)',\n",
    "    'ALTA_Multiday_Prec_Days',\n",
    "    'ALTA_Multiday_Snowfall_Days',\n",
    "    'ALTA_Multiday_Prec_Days_(tenths_mm)',\n",
    "    'ALTA_Multiday_Snowfall',\n",
    "    'ALTA_Temp_at_Observation_(tenths_C)',\n",
    "    'ALTA_Fog_Ice_Fog',\n",
    "    'ALTA_Heavy_Fog_Freezing_Fog',\n",
    "    'ALTA_Ice_Pellets_Sleet',\n",
    "    'ALTA_Hail',\n",
    "    'ALTA_Glaze_Rime',\n",
    "    'ALTA_Weather_Type_07',\n",
    "    'ALTA_Smoke_Haze',\n",
    "    'ALTA_Blowing_Drifting_Snow',\n",
    "    'ALTA_High_Winds',\n",
    "    'ALTA_Snow_Pellets_Ice_Crystals',\n",
    "    'BRIGHTON_Precip_(tenths_mm)',\n",
    "    'BRIGHTON_Snow_Depth_(mm)',\n",
    "    'BRIGHTON_Max_Temp_(tenths_C)',\n",
    "    'BRIGHTON_Min_Temp_(tenths_C)',\n",
    "    'BRIGHTON_Avg_Daily_Temp_(tenths_C)',\n",
    "    'BRIGHTON_Temp_at_Observation_(tenths_C)',\n",
    "    'BRIGHTON_Snow_on_Ground_(tenths_mm)',\n",
    "    'THAYNES_Precip_(tenths_mm)',\n",
    "    'THAYNES_Snow_Depth_(mm)',\n",
    "    'THAYNES_Max_Temp_(tenths_C)',\n",
    "    'THAYNES_Min_Temp_(tenths_C)',\n",
    "    'THAYNES_Avg_Daily_Temp_(tenths_C)',\n",
    "    'THAYNES_Temp_at_Observation_(tenths_C)',\n",
    "    'THAYNES_Snow_on_Ground_(tenths_mm)',\n",
    "    'PARLEY_SUMMIT_Precip_(tenths_mm)',\n",
    "    'PARLEY_SUMMIT_Snow_Depth_(mm)',\n",
    "    'PARLEY_SUMMIT_Max_Temp_(tenths_C)',\n",
    "    'PARLEY_SUMMIT_Min_Temp_(tenths_C)',\n",
    "    'PARLEY_SUMMIT_Temp_at_Observation_(tenths_C)',\n",
    "    'PARLEY_SUMMIT_Snow_on_Ground_(tenths_mm)'\n",
    "]\n",
    "\n",
    "# add data from previous day\n",
    "for col in target_columns:\n",
    "    input_columns.append(col + '_prev')\n",
    "    df[col + '_prev'] = df[col].shift(1)\n",
    "\n",
    "# Fill NA with 0\n",
    "df = df.fillna(0)\n",
    "\n",
    "X = df[input_columns]\n",
    "y = df['max_risk']\n",
    "\n",
    "# one hot encode y values range(0, 6)\n",
    "y = pd.get_dummies(y)\n",
    "print(y.shape)\n",
    "\n",
    "# convert to numpy\n",
    "X = X.values.astype(np.float32)\n",
    "y = y.values.astype(np.float32)\n",
    "\n",
    "# Split\n",
    "# X_train, X_test, y_train, y_test = train_test_split(X, y, test_size=0.2, shuffle=False)"
   ]
  },
  {
   "cell_type": "code",
   "execution_count": null,
   "metadata": {},
   "outputs": [],
   "source": []
  },
  {
   "cell_type": "code",
   "execution_count": 296,
   "metadata": {},
   "outputs": [],
   "source": [
    "X_train = X[:int(len(X) * 0.8)]\n",
    "X_test = X[int(len(X) * 0.8):]\n",
    "\n",
    "y_train = y[:int(len(y) * 0.8)]\n",
    "y_test = y[int(len(y) * 0.8):]"
   ]
  },
  {
   "cell_type": "code",
   "execution_count": 297,
   "metadata": {},
   "outputs": [],
   "source": [
    "# def get_random_chunk(X, y, chunk_size=16):\n",
    "#     random_idx = np.random.randint(0, len(X) - chunk_size)\n",
    "#     return X[random_idx:random_idx+chunk_size], y[random_idx:random_idx+chunk_size]\n",
    "\n",
    "def get_random_chunk(X, y, chunk_size=16, batch_size=32):\n",
    "    X_batch = []\n",
    "    y_batch = []\n",
    "    for i in range(batch_size):\n",
    "        random_idx = np.random.randint(0, len(X) - chunk_size)\n",
    "        X_batch.append(X[random_idx:random_idx+chunk_size])\n",
    "        y_batch.append(y[random_idx:random_idx+chunk_size])\n",
    "    return np.array(X_batch), np.array(y_batch)"
   ]
  },
  {
   "cell_type": "code",
   "execution_count": 299,
   "metadata": {},
   "outputs": [
    {
     "data": {
      "text/plain": [
       "array([[[0., 1., 0., 0., 0., 0.],\n",
       "        [0., 1., 0., 0., 0., 0.],\n",
       "        [0., 1., 0., 0., 0., 0.],\n",
       "        ...,\n",
       "        [1., 0., 0., 0., 0., 0.],\n",
       "        [1., 0., 0., 0., 0., 0.],\n",
       "        [1., 0., 0., 0., 0., 0.]],\n",
       "\n",
       "       [[0., 0., 0., 1., 0., 0.],\n",
       "        [0., 0., 0., 1., 0., 0.],\n",
       "        [0., 0., 0., 0., 1., 0.],\n",
       "        ...,\n",
       "        [0., 0., 0., 1., 0., 0.],\n",
       "        [0., 0., 0., 1., 0., 0.],\n",
       "        [0., 0., 0., 1., 0., 0.]],\n",
       "\n",
       "       [[0., 0., 0., 0., 1., 0.],\n",
       "        [0., 0., 0., 1., 0., 0.],\n",
       "        [0., 0., 0., 1., 0., 0.],\n",
       "        ...,\n",
       "        [0., 0., 1., 0., 0., 0.],\n",
       "        [0., 0., 1., 0., 0., 0.],\n",
       "        [0., 0., 1., 0., 0., 0.]],\n",
       "\n",
       "       ...,\n",
       "\n",
       "       [[0., 0., 1., 0., 0., 0.],\n",
       "        [0., 0., 1., 0., 0., 0.],\n",
       "        [0., 0., 1., 0., 0., 0.],\n",
       "        ...,\n",
       "        [0., 0., 0., 0., 1., 0.],\n",
       "        [0., 0., 0., 1., 0., 0.],\n",
       "        [0., 0., 0., 1., 0., 0.]],\n",
       "\n",
       "       [[0., 0., 0., 1., 0., 0.],\n",
       "        [0., 0., 0., 1., 0., 0.],\n",
       "        [0., 0., 0., 1., 0., 0.],\n",
       "        ...,\n",
       "        [0., 0., 1., 0., 0., 0.],\n",
       "        [0., 0., 1., 0., 0., 0.],\n",
       "        [0., 1., 0., 0., 0., 0.]],\n",
       "\n",
       "       [[0., 0., 0., 1., 0., 0.],\n",
       "        [0., 0., 0., 1., 0., 0.],\n",
       "        [0., 0., 0., 1., 0., 0.],\n",
       "        ...,\n",
       "        [0., 0., 0., 1., 0., 0.],\n",
       "        [0., 0., 0., 1., 0., 0.],\n",
       "        [0., 0., 0., 1., 0., 0.]]], dtype=float32)"
      ]
     },
     "execution_count": 299,
     "metadata": {},
     "output_type": "execute_result"
    }
   ],
   "source": [
    "get_random_chunk(X_train, y_train)[1]"
   ]
  },
  {
   "cell_type": "code",
   "execution_count": 301,
   "metadata": {},
   "outputs": [],
   "source": [
    "# GRU Data\n",
    "# Create a Dataloader for GRU by chunking the data\n",
    "# Output: An average risk\n",
    "\n",
    "class AvalancheGRUDataset(Dataset):\n",
    "    def __init__(self, X, y, chunk_size=16, batch_size=32, train=True, ratio=0.8, chunks=100):\n",
    "        self.X = torch.from_numpy(X)\n",
    "        self.y = torch.from_numpy(y)\n",
    "        self.train = train\n",
    "        self.input_columns = input_columns\n",
    "        self.target_columns = target_columns\n",
    "        self.chunk_size = chunk_size\n",
    "        self.batch_size = batch_size\n",
    "        self.chunks = chunks\n",
    "        \n",
    "        # Split\n",
    "        train_size = int(len(X) * ratio)\n",
    "        self.X_train = X[:train_size]\n",
    "        self.y_train = y[:train_size]\n",
    "        self.X_test = X[train_size:]\n",
    "        self.y_test = y[train_size:]\n",
    "        \n",
    "        \n",
    "    def __len__(self):\n",
    "        return self.chunks\n",
    "        \n",
    "        \n",
    "    def __getitem__(self, idx):\n",
    "        if self.train:\n",
    "            X, y = get_random_chunk(self.X_train, self.y_train, self.chunk_size)\n",
    "            return X, y\n",
    "        else:\n",
    "            X, y = get_random_chunk(self.X_test, self.y_test, self.chunk_size)\n",
    "            return X, y"
   ]
  },
  {
   "cell_type": "code",
   "execution_count": 304,
   "metadata": {},
   "outputs": [],
   "source": [
    "class GRUNet(nn.Module):\n",
    "    def __init__(self, input_dim, hidden_dim, output_dim, n_layers, batch_size, drop_prob=0.2):\n",
    "        super(GRUNet, self).__init__()\n",
    "        self.hidden_dim = hidden_dim\n",
    "        self.n_layers = n_layers\n",
    "        self.batch_size = batch_size\n",
    "        self.input_dim = input_dim\n",
    "        self.output_dim = output_dim\n",
    "        \n",
    "        self.gru = nn.GRU(input_dim, hidden_dim, n_layers, dropout=drop_prob, batch_first=True)\n",
    "        self.relu = nn.ReLU()\n",
    "        self.fc = nn.Linear(hidden_dim, output_dim)\n",
    "        self.softmax = nn.Softmax(dim=1)\n",
    "        \n",
    "    def forward(self, x, h):\n",
    "        # print(\"forward x:\", x.shape)\n",
    "        out, h = self.gru(x, h)\n",
    "        # print(\"out:\", out.shape)\n",
    "        out = self.fc(self.relu(out[:,-1]))\n",
    "        out = self.softmax(out)\n",
    "        return out, h\n",
    "    \n",
    "    def init_hidden(self):\n",
    "        hidden = torch.zeros(self.n_layers, self.batch_size, self.hidden_dim)\n",
    "        # print(\"hidden:\", hidden.shape)\n",
    "        return hidden"
   ]
  },
  {
   "cell_type": "code",
   "execution_count": 316,
   "metadata": {},
   "outputs": [],
   "source": [
    "batch_size = 32\n",
    "train_dataset = AvalancheGRUDataset(X_train, y_train, batch_size=batch_size, chunk_size=16, train=True)\n",
    "test_dataset = AvalancheGRUDataset(X_test, y_test, batch_size=batch_size, chunk_size=16, train=False)\n",
    "train_dataloader = DataLoader(train_dataset, batch_size=1, shuffle=False)\n",
    "test_dataloader = DataLoader(test_dataset, batch_size=1, shuffle=False)\n",
    "model = GRUNet(len(input_columns), 64, 6, 4, batch_size)\n",
    "model.to(device)\n",
    "optimizer = optim.Adam(model.parameters(), lr=0.0001)\n",
    "criterion = nn.CrossEntropyLoss()"
   ]
  },
  {
   "cell_type": "code",
   "execution_count": 317,
   "metadata": {},
   "outputs": [
    {
     "name": "stderr",
     "output_type": "stream",
     "text": [
      "Epochs:   0%|          | 0/200 [00:00<?, ?epoch/s, Loss: 1.7919]\n"
     ]
    },
    {
     "ename": "ValueError",
     "evalue": "Expected input batch_size (32) to match target batch_size (16).",
     "output_type": "error",
     "traceback": [
      "\u001b[1;31m---------------------------------------------------------------------------\u001b[0m",
      "\u001b[1;31mValueError\u001b[0m                                Traceback (most recent call last)",
      "\u001b[1;32mc:\\Data\\BYU\\Fall2023\\201R\\avalanche\\model-pytorch.ipynb Cell 37\u001b[0m line \u001b[0;36m5\n\u001b[0;32m     <a href='vscode-notebook-cell:/c%3A/Data/BYU/Fall2023/201R/avalanche/model-pytorch.ipynb#Y124sZmlsZQ%3D%3D?line=52'>53</a>\u001b[0m hidden \u001b[39m=\u001b[39m model\u001b[39m.\u001b[39minit_hidden()\u001b[39m.\u001b[39mto(device)\n\u001b[0;32m     <a href='vscode-notebook-cell:/c%3A/Data/BYU/Fall2023/201R/avalanche/model-pytorch.ipynb#Y124sZmlsZQ%3D%3D?line=53'>54</a>\u001b[0m y_pred, hidden \u001b[39m=\u001b[39m model(X, hidden)\n\u001b[1;32m---> <a href='vscode-notebook-cell:/c%3A/Data/BYU/Fall2023/201R/avalanche/model-pytorch.ipynb#Y124sZmlsZQ%3D%3D?line=54'>55</a>\u001b[0m val_loss \u001b[39m=\u001b[39m criterion(y_pred, y\u001b[39m.\u001b[39;49msqueeze(\u001b[39m0\u001b[39;49m)[\u001b[39m-\u001b[39;49m\u001b[39m1\u001b[39;49m])\n\u001b[0;32m     <a href='vscode-notebook-cell:/c%3A/Data/BYU/Fall2023/201R/avalanche/model-pytorch.ipynb#Y124sZmlsZQ%3D%3D?line=55'>56</a>\u001b[0m tmp_val_losses\u001b[39m.\u001b[39mappend(val_loss\u001b[39m.\u001b[39mitem())\n\u001b[0;32m     <a href='vscode-notebook-cell:/c%3A/Data/BYU/Fall2023/201R/avalanche/model-pytorch.ipynb#Y124sZmlsZQ%3D%3D?line=56'>57</a>\u001b[0m val_accuracy \u001b[39m=\u001b[39m calculate_accuracy(y_pred, y\u001b[39m.\u001b[39msqueeze(\u001b[39m0\u001b[39m)[\u001b[39m-\u001b[39m\u001b[39m1\u001b[39m])\n",
      "File \u001b[1;32mc:\\Data\\BYU\\Fall2023\\201R\\avalanche\\.venv\\Lib\\site-packages\\torch\\nn\\modules\\module.py:1518\u001b[0m, in \u001b[0;36mModule._wrapped_call_impl\u001b[1;34m(self, *args, **kwargs)\u001b[0m\n\u001b[0;32m   1516\u001b[0m     \u001b[39mreturn\u001b[39;00m \u001b[39mself\u001b[39m\u001b[39m.\u001b[39m_compiled_call_impl(\u001b[39m*\u001b[39margs, \u001b[39m*\u001b[39m\u001b[39m*\u001b[39mkwargs)  \u001b[39m# type: ignore[misc]\u001b[39;00m\n\u001b[0;32m   1517\u001b[0m \u001b[39melse\u001b[39;00m:\n\u001b[1;32m-> 1518\u001b[0m     \u001b[39mreturn\u001b[39;00m \u001b[39mself\u001b[39;49m\u001b[39m.\u001b[39;49m_call_impl(\u001b[39m*\u001b[39;49margs, \u001b[39m*\u001b[39;49m\u001b[39m*\u001b[39;49mkwargs)\n",
      "File \u001b[1;32mc:\\Data\\BYU\\Fall2023\\201R\\avalanche\\.venv\\Lib\\site-packages\\torch\\nn\\modules\\module.py:1527\u001b[0m, in \u001b[0;36mModule._call_impl\u001b[1;34m(self, *args, **kwargs)\u001b[0m\n\u001b[0;32m   1522\u001b[0m \u001b[39m# If we don't have any hooks, we want to skip the rest of the logic in\u001b[39;00m\n\u001b[0;32m   1523\u001b[0m \u001b[39m# this function, and just call forward.\u001b[39;00m\n\u001b[0;32m   1524\u001b[0m \u001b[39mif\u001b[39;00m \u001b[39mnot\u001b[39;00m (\u001b[39mself\u001b[39m\u001b[39m.\u001b[39m_backward_hooks \u001b[39mor\u001b[39;00m \u001b[39mself\u001b[39m\u001b[39m.\u001b[39m_backward_pre_hooks \u001b[39mor\u001b[39;00m \u001b[39mself\u001b[39m\u001b[39m.\u001b[39m_forward_hooks \u001b[39mor\u001b[39;00m \u001b[39mself\u001b[39m\u001b[39m.\u001b[39m_forward_pre_hooks\n\u001b[0;32m   1525\u001b[0m         \u001b[39mor\u001b[39;00m _global_backward_pre_hooks \u001b[39mor\u001b[39;00m _global_backward_hooks\n\u001b[0;32m   1526\u001b[0m         \u001b[39mor\u001b[39;00m _global_forward_hooks \u001b[39mor\u001b[39;00m _global_forward_pre_hooks):\n\u001b[1;32m-> 1527\u001b[0m     \u001b[39mreturn\u001b[39;00m forward_call(\u001b[39m*\u001b[39;49margs, \u001b[39m*\u001b[39;49m\u001b[39m*\u001b[39;49mkwargs)\n\u001b[0;32m   1529\u001b[0m \u001b[39mtry\u001b[39;00m:\n\u001b[0;32m   1530\u001b[0m     result \u001b[39m=\u001b[39m \u001b[39mNone\u001b[39;00m\n",
      "File \u001b[1;32mc:\\Data\\BYU\\Fall2023\\201R\\avalanche\\.venv\\Lib\\site-packages\\torch\\nn\\modules\\loss.py:1179\u001b[0m, in \u001b[0;36mCrossEntropyLoss.forward\u001b[1;34m(self, input, target)\u001b[0m\n\u001b[0;32m   1178\u001b[0m \u001b[39mdef\u001b[39;00m \u001b[39mforward\u001b[39m(\u001b[39mself\u001b[39m, \u001b[39minput\u001b[39m: Tensor, target: Tensor) \u001b[39m-\u001b[39m\u001b[39m>\u001b[39m Tensor:\n\u001b[1;32m-> 1179\u001b[0m     \u001b[39mreturn\u001b[39;00m F\u001b[39m.\u001b[39;49mcross_entropy(\u001b[39minput\u001b[39;49m, target, weight\u001b[39m=\u001b[39;49m\u001b[39mself\u001b[39;49m\u001b[39m.\u001b[39;49mweight,\n\u001b[0;32m   1180\u001b[0m                            ignore_index\u001b[39m=\u001b[39;49m\u001b[39mself\u001b[39;49m\u001b[39m.\u001b[39;49mignore_index, reduction\u001b[39m=\u001b[39;49m\u001b[39mself\u001b[39;49m\u001b[39m.\u001b[39;49mreduction,\n\u001b[0;32m   1181\u001b[0m                            label_smoothing\u001b[39m=\u001b[39;49m\u001b[39mself\u001b[39;49m\u001b[39m.\u001b[39;49mlabel_smoothing)\n",
      "File \u001b[1;32mc:\\Data\\BYU\\Fall2023\\201R\\avalanche\\.venv\\Lib\\site-packages\\torch\\nn\\functional.py:3053\u001b[0m, in \u001b[0;36mcross_entropy\u001b[1;34m(input, target, weight, size_average, ignore_index, reduce, reduction, label_smoothing)\u001b[0m\n\u001b[0;32m   3051\u001b[0m \u001b[39mif\u001b[39;00m size_average \u001b[39mis\u001b[39;00m \u001b[39mnot\u001b[39;00m \u001b[39mNone\u001b[39;00m \u001b[39mor\u001b[39;00m reduce \u001b[39mis\u001b[39;00m \u001b[39mnot\u001b[39;00m \u001b[39mNone\u001b[39;00m:\n\u001b[0;32m   3052\u001b[0m     reduction \u001b[39m=\u001b[39m _Reduction\u001b[39m.\u001b[39mlegacy_get_string(size_average, reduce)\n\u001b[1;32m-> 3053\u001b[0m \u001b[39mreturn\u001b[39;00m torch\u001b[39m.\u001b[39;49m_C\u001b[39m.\u001b[39;49m_nn\u001b[39m.\u001b[39;49mcross_entropy_loss(\u001b[39minput\u001b[39;49m, target, weight, _Reduction\u001b[39m.\u001b[39;49mget_enum(reduction), ignore_index, label_smoothing)\n",
      "\u001b[1;31mValueError\u001b[0m: Expected input batch_size (32) to match target batch_size (16)."
     ]
    }
   ],
   "source": [
    "losses = []\n",
    "accuracies = []\n",
    "mses = []\n",
    "\n",
    "val_losses = []\n",
    "val_accuracies = []\n",
    "\n",
    "num_epochs = 200\n",
    "with tqdm(range(num_epochs), desc=\"Epochs\", total=num_epochs, leave=True, position=0, unit='epoch') as iterator:\n",
    "    for epoch in iterator:\n",
    "        for i, (X, y) in enumerate(train_dataloader):\n",
    "            \n",
    "            # X: torch.Size([1, 16, 65]) y: torch.Size([1, 16])\n",
    "            X = X.to(device).squeeze(0)\n",
    "            y = y.to(device).squeeze(0)\n",
    "            # print(X.shape, y.shape)\n",
    "            # break\n",
    "            optimizer.zero_grad()\n",
    "            \n",
    "            # print(\"X:\", X.shape) # X: torch.Size([1, 16, 65])\n",
    "            # print(\"y:\", y.shape) # y: torch.Size([1, 16])\n",
    "            hidden = model.init_hidden().to(device)\n",
    "            # print(\"hidden:\", hidden.shape) # hidden: torch.Size([2, 1, 8])\n",
    "\n",
    "            # print(\"X:\", X.shape)\n",
    "            y_pred, hidden = model(X, hidden)\n",
    "            # print(\"y_pred:\", y_pred.shape)\n",
    "            # print(\"hidden:\", hidden.shape)\n",
    "            \n",
    "            \n",
    "            # print(\"ypred:\", y_pred.shape) y_pred: torch.Size([1, 1])\n",
    "            # print(y[:,-1,:].shape)\n",
    "            loss = criterion(y_pred, y[:,-1,:])\n",
    "            loss.backward()\n",
    "            optimizer.step()\n",
    "            \n",
    "            losses.append(loss.item())\n",
    "            mses.append(loss.item())\n",
    "            \n",
    "            accuracy = calculate_accuracy(y_pred, y[:,-1,:])\n",
    "            # print(\"A\", accuracy)\n",
    "            accuracies.append(accuracy)\n",
    "            \n",
    "            iterator.set_postfix_str(f\"Loss: {loss.item():.4f}\")\n",
    "            \n",
    "            # Validation\n",
    "            if i % 10 == 0:\n",
    "                tmp_val_losses = []\n",
    "                tmp_val_accuracies = []\n",
    "                for X, y in test_dataloader:\n",
    "                    X = X.to(device).squeeze(0)\n",
    "                    y = y.to(device).squeeze(0)\n",
    "                    hidden = model.init_hidden().to(device)\n",
    "                    y_pred, hidden = model(X, hidden)\n",
    "                    val_loss = criterion(y_pred, y.squeeze(0)[-1])\n",
    "                    tmp_val_losses.append(val_loss.item())\n",
    "                    val_accuracy = calculate_accuracy(y_pred, y.squeeze(0)[-1])\n",
    "                    tmp_val_accuracies.append(val_accuracy)\n",
    "                val_losses.append(np.mean(tmp_val_losses))\n",
    "                val_accuracies.append(np.mean(tmp_val_accuracies))\n",
    "                iterator.set_description_str(f\"Val Loss: {np.mean(val_losses):.4f}\")   \n",
    "                "
   ]
  },
  {
   "cell_type": "code",
   "execution_count": 284,
   "metadata": {},
   "outputs": [
    {
     "data": {
      "image/png": "[encoded data removed]",
      "text/plain": [
       "<Figure size 640x480 with 1 Axes>"
      ]
     },
     "metadata": {},
     "output_type": "display_data"
    },
    {
     "data": {
      "image/png": "[encoded data removed]",
      "text/plain": [
       "<Figure size 640x480 with 1 Axes>"
      ]
     },
     "metadata": {},
     "output_type": "display_data"
    },
    {
     "data": {
      "image/png": "[encoded data removed]",
      "text/plain": [
       "<Figure size 640x480 with 1 Axes>"
      ]
     },
     "metadata": {},
     "output_type": "display_data"
    },
    {
     "data": {
      "image/png": "[encoded data removed]",
      "text/plain": [
       "<Figure size 640x480 with 1 Axes>"
      ]
     },
     "metadata": {},
     "output_type": "display_data"
    }
   ],
   "source": [
    "# Plot\n",
    "import matplotlib.pyplot as plt\n",
    "plt.plot(losses)\n",
    "plt.title(\"Loss\")\n",
    "plt.show()\n",
    "\n",
    "plt.plot(accuracies)\n",
    "plt.title(\"Accuracy\")\n",
    "plt.show()\n",
    "\n",
    "plt.plot(val_losses)\n",
    "plt.title(\"Validation Loss\")\n",
    "plt.show()\n",
    "\n",
    "plt.plot(val_accuracies)\n",
    "plt.title(\"Validation Accuracy\")\n",
    "plt.show()\n"
   ]
  },
  {
   "cell_type": "code",
   "execution_count": null,
   "metadata": {},
   "outputs": [],
   "source": [
    "import torch\n",
    "import torch.nn as nn\n",
    "import torch.optim as optim\n",
    "import numpy as np\n",
    "\n",
    "# Generate dummy data\n",
    "num_samples = 1000\n",
    "seq_length = 16\n",
    "input_size = 64\n",
    "output_size = 1\n",
    "\n",
    "X = np.random.randn(num_samples, seq_length, input_size)\n",
    "y = np.random.randn(num_samples, output_size)\n",
    "\n",
    "# Convert data to PyTorch tensors\n",
    "X_train = torch.tensor(X, dtype=torch.float32)\n",
    "y_train = torch.tensor(y, dtype=torch.float32)\n",
    "\n",
    "# Define the GRU model\n",
    "class GRUModel(nn.Module):\n",
    "    def __init__(self, input_size, hidden_size, output_size):\n",
    "        super(GRUModel, self).__init__()\n",
    "        self.hidden_size = hidden_size\n",
    "        self.gru = nn.GRU(input_size, hidden_size, batch_first=True)\n",
    "        self.fc = nn.Linear(hidden_size, output_size)\n",
    "        \n",
    "    def forward(self, x, hidden):\n",
    "        out, hidden = self.gru(x, hidden)\n",
    "        out = out[:, -1, :]  # Taking the output of the last time step\n",
    "        out = self.fc(out)\n",
    "        return out, hidden\n",
    "\n",
    "    def init_hidden(self, batch_size):\n",
    "        return torch.zeros(1, batch_size, self.hidden_size)\n",
    "\n",
    "# Set hyperparameters\n",
    "hidden_size = 128\n",
    "learning_rate = 0.001\n",
    "num_epochs = 10\n",
    "batch_size = 32\n",
    "\n",
    "# Initialize the model, loss function, and optimizer\n",
    "model = GRUModel(input_size, hidden_size, output_size)\n",
    "criterion = nn.MSELoss()\n",
    "optimizer = optim.Adam(model.parameters(), lr=learning_rate)\n",
    "\n",
    "# Training loop\n",
    "for epoch in range(num_epochs):\n",
    "    epoch_loss = 0.0\n",
    "    for i in range(0, len(X_train), batch_size):\n",
    "        # Get the current batch\n",
    "        inputs = X_train[i:i+batch_size]\n",
    "        targets = y_train[i:i+batch_size]\n",
    "        \n",
    "        # Zero the gradients\n",
    "        optimizer.zero_grad()\n",
    "        \n",
    "        # Forward pass\n",
    "        hidden = model.init_hidden(inputs.size(0))\n",
    "        outputs, hidden = model(inputs, hidden)\n",
    "        \n",
    "        # Calculate loss\n",
    "        loss = criterion(outputs.squeeze(), targets.squeeze())\n",
    "        \n",
    "        # Backward pass and optimization\n",
    "        loss.backward()\n",
    "        optimizer.step()\n",
    "        \n",
    "        epoch_loss += loss.item()\n",
    "    \n",
    "    print(f'Epoch [{epoch+1}/{num_epochs}], Loss: {epoch_loss/len(X_train):.4f}')\n",
    "\n",
    "# Example prediction\n",
    "test_input = torch.randn(1, seq_length, input_size)\n",
    "hidden = model.init_hidden(test_input.size(0))\n",
    "prediction, _ = model(test_input, hidden)\n",
    "print(\"Example prediction:\", prediction.item())\n"
   ]
  },
  {
   "cell_type": "code",
   "execution_count": 202,
   "metadata": {},
   "outputs": [
    {
     "data": {
      "text/plain": [
       "(16,)"
      ]
     },
     "execution_count": 202,
     "metadata": {},
     "output_type": "execute_result"
    }
   ],
   "source": [
    "get_random_chunk(X_train, y_train, chunk_size=16)[1].shape"
   ]
  },
  {
   "cell_type": "code",
   "execution_count": null,
   "metadata": {},
   "outputs": [],
   "source": [
    "import torch\n",
    "import torch.nn as nn\n",
    "import torch.optim as optim\n",
    "import numpy as np\n",
    "\n",
    "# Generate dummy data\n",
    "num_samples = 1000\n",
    "seq_length = 16\n",
    "input_size = 64\n",
    "output_size = 1\n",
    "\n",
    "X = np.random.randn(num_samples, seq_length, input_size)\n",
    "y = np.random.randn(num_samples, output_size)\n",
    "\n",
    "# Convert data to PyTorch tensors\n",
    "X_train = torch.tensor(X, dtype=torch.float32)\n",
    "y_train = torch.tensor(y, dtype=torch.float32)\n",
    "\n",
    "# Define the GRU model\n",
    "class GRUModel(nn.Module):\n",
    "    def __init__(self, input_size, hidden_size, output_size):\n",
    "        super(GRUModel, self).__init__()\n",
    "        self.hidden_size = hidden_size\n",
    "        self.gru = nn.GRU(input_size, hidden_size, batch_first=True)\n",
    "        self.fc = nn.Linear(hidden_size, output_size)\n",
    "        \n",
    "    def forward(self, x, hidden):\n",
    "        out, hidden = self.gru(x, hidden)\n",
    "        out = out[:, -1, :]  # Taking the output of the last time step\n",
    "        out = self.fc(out)\n",
    "        return out, hidden\n",
    "\n",
    "    def init_hidden(self, batch_size):\n",
    "        return torch.zeros(1, batch_size, self.hidden_size)\n",
    "\n",
    "# Set hyperparameters\n",
    "hidden_size = 128\n",
    "learning_rate = 0.001\n",
    "num_epochs = 10\n",
    "batch_size = 32\n",
    "\n",
    "# Initialize the model, loss function, and optimizer\n",
    "model = GRUModel(input_size, hidden_size, output_size)\n",
    "criterion = nn.MSELoss()\n",
    "optimizer = optim.Adam(model.parameters(), lr=learning_rate)\n",
    "\n",
    "# Training loop\n",
    "for epoch in range(num_epochs):\n",
    "    epoch_loss = 0.0\n",
    "    for i in range(0, len(X_train), batch_size):\n",
    "        # Get the current batch\n",
    "        inputs = X_train[i:i+batch_size]\n",
    "        targets = y_train[i:i+batch_size]\n",
    "        \n",
    "        # Zero the gradients\n",
    "        optimizer.zero_grad()\n",
    "        \n",
    "        # Forward pass\n",
    "        hidden = model.init_hidden(inputs.size(0))\n",
    "        outputs, hidden = model(inputs, hidden)\n",
    "        \n",
    "        # Calculate loss\n",
    "        loss = criterion(outputs.squeeze(), targets.squeeze())\n",
    "        \n",
    "        # Backward pass and optimization\n",
    "        loss.backward()\n",
    "        optimizer.step()\n",
    "        \n",
    "        epoch_loss += loss.item()\n",
    "    \n",
    "    print(f'Epoch [{epoch+1}/{num_epochs}], Loss: {epoch_loss/len(X_train):.4f}')\n",
    "\n",
    "# Example prediction\n",
    "test_input = torch.randn(1, seq_length, input_size)\n",
    "hidden = model.init_hidden(test_input.size(0))\n",
    "prediction, _ = model(test_input, hidden)\n",
    "print(\"Example prediction:\", prediction.item())\n"
   ]
  }
 ],
 "metadata": {
  "kernelspec": {
   "display_name": ".venv",
   "language": "python",
   "name": "python3"
  },
  "language_info": {
   "codemirror_mode": {
    "name": "ipython",
    "version": 3
   },
   "file_extension": ".py",
   "mimetype": "text/x-python",
   "name": "python",
   "nbconvert_exporter": "python",
   "pygments_lexer": "ipython3",
   "version": "3.11.6"
  }
 },
 "nbformat": 4,
 "nbformat_minor": 2
}
