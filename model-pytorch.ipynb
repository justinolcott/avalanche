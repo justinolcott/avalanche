{
 "cells": [
  {
   "cell_type": "code",
   "execution_count": 1,
   "metadata": {},
   "outputs": [
    {
     "name": "stdout",
     "output_type": "stream",
     "text": [
      "Looking in indexes: https://download.pytorch.org/whl/cu121\n",
      "Collecting torch\n",
      "  Using cached https://download.pytorch.org/whl/cu121/torch-2.1.1%2Bcu121-cp311-cp311-win_amd64.whl (2473.9 MB)\n",
      "Collecting torchvision\n",
      "  Using cached https://download.pytorch.org/whl/cu121/torchvision-0.16.1%2Bcu121-cp311-cp311-win_amd64.whl (5.6 MB)\n",
      "Collecting torchaudio\n",
      "  Using cached https://download.pytorch.org/whl/cu121/torchaudio-2.1.1%2Bcu121-cp311-cp311-win_amd64.whl (4.0 MB)\n",
      "Collecting filelock (from torch)\n",
      "  Using cached https://download.pytorch.org/whl/filelock-3.9.0-py3-none-any.whl (9.7 kB)\n",
      "Collecting typing-extensions (from torch)\n",
      "  Using cached https://download.pytorch.org/whl/typing_extensions-4.4.0-py3-none-any.whl (26 kB)\n",
      "Collecting sympy (from torch)\n",
      "  Using cached https://download.pytorch.org/whl/sympy-1.12-py3-none-any.whl (5.7 MB)\n",
      "Collecting networkx (from torch)\n",
      "  Using cached https://download.pytorch.org/whl/networkx-3.0-py3-none-any.whl (2.0 MB)\n",
      "Collecting jinja2 (from torch)\n",
      "  Using cached https://download.pytorch.org/whl/Jinja2-3.1.2-py3-none-any.whl (133 kB)\n",
      "Collecting fsspec (from torch)\n",
      "  Using cached https://download.pytorch.org/whl/fsspec-2023.4.0-py3-none-any.whl (153 kB)\n",
      "Requirement already satisfied: numpy in c:\\data\\byu\\fall2023\\201r\\avalanche\\.venv\\lib\\site-packages (from torchvision) (1.26.1)\n",
      "Requirement already satisfied: requests in c:\\data\\byu\\fall2023\\201r\\avalanche\\.venv\\lib\\site-packages (from torchvision) (2.31.0)\n",
      "Requirement already satisfied: pillow!=8.3.*,>=5.3.0 in c:\\data\\byu\\fall2023\\201r\\avalanche\\.venv\\lib\\site-packages (from torchvision) (10.1.0)\n",
      "Collecting MarkupSafe>=2.0 (from jinja2->torch)\n",
      "  Using cached https://download.pytorch.org/whl/MarkupSafe-2.1.3-cp311-cp311-win_amd64.whl (17 kB)\n",
      "Requirement already satisfied: charset-normalizer<4,>=2 in c:\\data\\byu\\fall2023\\201r\\avalanche\\.venv\\lib\\site-packages (from requests->torchvision) (3.3.0)\n",
      "Requirement already satisfied: idna<4,>=2.5 in c:\\data\\byu\\fall2023\\201r\\avalanche\\.venv\\lib\\site-packages (from requests->torchvision) (3.4)\n",
      "Requirement already satisfied: urllib3<3,>=1.21.1 in c:\\data\\byu\\fall2023\\201r\\avalanche\\.venv\\lib\\site-packages (from requests->torchvision) (2.0.6)\n",
      "Requirement already satisfied: certifi>=2017.4.17 in c:\\data\\byu\\fall2023\\201r\\avalanche\\.venv\\lib\\site-packages (from requests->torchvision) (2023.7.22)\n",
      "Collecting mpmath>=0.19 (from sympy->torch)\n",
      "  Using cached https://download.pytorch.org/whl/mpmath-1.3.0-py3-none-any.whl (536 kB)\n",
      "Installing collected packages: mpmath, typing-extensions, sympy, networkx, MarkupSafe, fsspec, filelock, jinja2, torch, torchvision, torchaudio\n",
      "Successfully installed MarkupSafe-2.1.3 filelock-3.9.0 fsspec-2023.4.0 jinja2-3.1.2 mpmath-1.3.0 networkx-3.0 sympy-1.12 torch-2.1.1+cu121 torchaudio-2.1.1+cu121 torchvision-0.16.1+cu121 typing-extensions-4.4.0\n"
     ]
    },
    {
     "name": "stderr",
     "output_type": "stream",
     "text": [
      "\n",
      "[notice] A new release of pip is available: 23.3 -> 23.3.1\n",
      "[notice] To update, run: python.exe -m pip install --upgrade pip\n"
     ]
    }
   ],
   "source": [
    "!pip3 install torch torchvision torchaudio --index-url https://download.pytorch.org/whl/cu121"
   ]
  },
  {
   "cell_type": "code",
   "execution_count": 1,
   "metadata": {},
   "outputs": [
    {
     "name": "stdout",
     "output_type": "stream",
     "text": [
      "cuda:0\n"
     ]
    }
   ],
   "source": [
    "import torch\n",
    "device = torch.device(\"cuda:0\" if torch.cuda.is_available() else \"cpu\")\n",
    "print(device)"
   ]
  },
  {
   "cell_type": "code",
   "execution_count": 3,
   "metadata": {},
   "outputs": [],
   "source": [
    "import torch\n",
    "import torch.nn as nn\n",
    "import torch.nn.functional as F\n",
    "import torch.optim as optim\n",
    "import pandas as pd\n",
    "import numpy as np"
   ]
  },
  {
   "cell_type": "code",
   "execution_count": 4,
   "metadata": {},
   "outputs": [],
   "source": [
    "# for col, val in zip(df.columns, df.iloc[1]):\n",
    "#     print(col, \": \", val)"
   ]
  },
  {
   "cell_type": "code",
   "execution_count": 20,
   "metadata": {},
   "outputs": [
    {
     "name": "stdout",
     "output_type": "stream",
     "text": [
      "DATE :  2013-12-14\n",
      "url :  https://utahavalanchecenter.org/sites/default/files/archive/advisory/print/advisory/salt-lake/20131214.html\n",
      "HN :  yellow\n",
      "HNE :  yellow\n",
      "HE :  yellow\n",
      "HSE :  yellow\n",
      "HS :  yellow\n",
      "HSW :  yellow\n",
      "HW :  yellow\n",
      "HNW :  yellow\n",
      "MN :  yellow\n",
      "MNE :  yellow\n",
      "ME :  yellow\n",
      "MSE :  green\n",
      "MS :  green\n",
      "MSW :  green\n",
      "MW :  yellow\n",
      "MNW :  yellow\n",
      "LN :  green\n",
      "LNE :  green\n",
      "LE :  green\n",
      "LSE :  green\n",
      "LS :  green\n",
      "LSW :  green\n",
      "LW :  green\n",
      "LNW :  green\n",
      "high :  2.0\n",
      "mid :  1.625\n",
      "low :  1.0\n",
      "problem_1_type :  Persistent Slab\n",
      "likelihood_1 :  2.0\n",
      "size_1 :  2.0\n",
      "HN1 :  yellow\n",
      "HNE1 :  yellow\n",
      "HE1 :  yellow\n",
      "HSE1 :  green\n",
      "HS1 :  green\n",
      "HSW1 :  green\n",
      "HW1 :  yellow\n",
      "HNW1 :  yellow\n",
      "MN1 :  yellow\n",
      "MNE1 :  yellow\n",
      "ME1 :  yellow\n",
      "MSE1 :  green\n",
      "MS1 :  green\n",
      "MSW1 :  green\n",
      "MW1 :  yellow\n",
      "MNW1 :  yellow\n",
      "LN1 :  green\n",
      "LNE1 :  green\n",
      "LE1 :  green\n",
      "LSE1 :  green\n",
      "LS1 :  green\n",
      "LSW1 :  green\n",
      "LW1 :  green\n",
      "LNW1 :  green\n",
      "high1 :  0.0\n",
      "mid1 :  0.0\n",
      "low1 :  0.0\n",
      "problem_2_type :  Wind Slab\n",
      "likelihood_2 :  1.0\n",
      "size_2 :  1.0\n",
      "HN2 :  yellow\n",
      "HNE2 :  yellow\n",
      "HE2 :  yellow\n",
      "HSE2 :  yellow\n",
      "HS2 :  yellow\n",
      "HSW2 :  yellow\n",
      "HW2 :  yellow\n",
      "HNW2 :  yellow\n",
      "MN2 :  green\n",
      "MNE2 :  green\n",
      "ME2 :  green\n",
      "MSE2 :  green\n",
      "MS2 :  green\n",
      "MSW2 :  green\n",
      "MW2 :  green\n",
      "MNW2 :  green\n",
      "LN2 :  green\n",
      "LNE2 :  green\n",
      "LE2 :  green\n",
      "LSE2 :  green\n",
      "LS2 :  green\n",
      "LSW2 :  green\n",
      "LW2 :  green\n",
      "LNW2 :  green\n",
      "high2 :  0.0\n",
      "mid2 :  0.0\n",
      "low2 :  0.0\n",
      "problem_3_type :  nan\n",
      "likelihood_3 :  nan\n",
      "size_3 :  nan\n",
      "HN3 :  nan\n",
      "HNE3 :  nan\n",
      "HE3 :  nan\n",
      "HSE3 :  nan\n",
      "HS3 :  nan\n",
      "HSW3 :  nan\n",
      "HW3 :  nan\n",
      "HNW3 :  nan\n",
      "MN3 :  nan\n",
      "MNE3 :  nan\n",
      "ME3 :  nan\n",
      "MSE3 :  nan\n",
      "MS3 :  nan\n",
      "MSW3 :  nan\n",
      "MW3 :  nan\n",
      "MNW3 :  nan\n",
      "LN3 :  nan\n",
      "LNE3 :  nan\n",
      "LE3 :  nan\n",
      "LSE3 :  nan\n",
      "LS3 :  nan\n",
      "LSW3 :  nan\n",
      "LW3 :  nan\n",
      "LNW3 :  nan\n",
      "high3 :  nan\n",
      "mid3 :  nan\n",
      "low3 :  nan\n",
      "ALTA_Station :  USC00420072\n",
      "ALTA_Latitude :  40.59058\n",
      "ALTA_Longitude :  -111.63703\n",
      "ALTA_Elevation :  2654.8\n",
      "ALTA_Name :  ALTA, UT US\n",
      "ALTA_Precip_(tenths_mm) :  0.0\n",
      "ALTA_Snowfall_(mm) :  0.0\n",
      "ALTA_Snow_Depth_(mm) :  508.0\n",
      "ALTA_Max_Temp_(tenths_C) :  -39.0\n",
      "ALTA_Min_Temp_(tenths_C) :  -139.0\n",
      "ALTA_Multiday_Prec_Days :  nan\n",
      "ALTA_Multiday_Snowfall_Days :  nan\n",
      "ALTA_Multiday_Prec_Days_(tenths_mm) :  nan\n",
      "ALTA_Multiday_Snowfall :  nan\n",
      "ALTA_Temp_at_Observation_(tenths_C) :  -83.0\n",
      "ALTA_Fog_Ice_Fog :  nan\n",
      "ALTA_Heavy_Fog_Freezing_Fog :  nan\n",
      "ALTA_Ice_Pellets_Sleet :  nan\n",
      "ALTA_Hail :  nan\n",
      "ALTA_Glaze_Rime :  nan\n",
      "ALTA_Weather_Type_07 :  nan\n",
      "ALTA_Smoke_Haze :  nan\n",
      "ALTA_Blowing_Drifting_Snow :  nan\n",
      "ALTA_High_Winds :  nan\n",
      "ALTA_Snow_Pellets_Ice_Crystals :  nan\n",
      "BRIGHTON_Station :  USS0011J57S\n",
      "BRIGHTON_Latitude :  40.6\n",
      "BRIGHTON_Longitude :  -111.58\n",
      "BRIGHTON_Elevation :  2667.0\n",
      "BRIGHTON_Name :  BRIGHTON, UT US\n",
      "BRIGHTON_Precip_(tenths_mm) :  0.0\n",
      "BRIGHTON_Snow_Depth_(mm) :  508.0\n",
      "BRIGHTON_Max_Temp_(tenths_C) :  -21.0\n",
      "BRIGHTON_Min_Temp_(tenths_C) :  -110.0\n",
      "BRIGHTON_Avg_Daily_Temp_(tenths_C) :  -73.0\n",
      "BRIGHTON_Temp_at_Observation_(tenths_C) :  -50.0\n",
      "BRIGHTON_Snow_on_Ground_(tenths_mm) :  1194.0\n",
      "THAYNES_Station :  USS0011J56S\n",
      "THAYNES_Latitude :  40.62\n",
      "THAYNES_Longitude :  -111.53\n",
      "THAYNES_Elevation :  2813.3\n",
      "THAYNES_Name :  THAYNES CANYON, UT US\n",
      "THAYNES_Precip_(tenths_mm) :  0.0\n",
      "THAYNES_Snow_Depth_(mm) :  559.0\n",
      "THAYNES_Max_Temp_(tenths_C) :  -7.0\n",
      "THAYNES_Min_Temp_(tenths_C) :  -96.0\n",
      "THAYNES_Avg_Daily_Temp_(tenths_C) :  -50.0\n",
      "THAYNES_Temp_at_Observation_(tenths_C) :  -11.0\n",
      "THAYNES_Snow_on_Ground_(tenths_mm) :  1245.0\n",
      "PARLEY_SUMMIT_Station :  USS0011J52S\n",
      "PARLEY_SUMMIT_Latitude :  40.76\n",
      "PARLEY_SUMMIT_Longitude :  -111.63\n",
      "PARLEY_SUMMIT_Elevation :  2286.0\n",
      "PARLEY_SUMMIT_Name :  PARLEY S SUMMIT, UT US\n",
      "PARLEY_SUMMIT_Precip_(tenths_mm) :  0.0\n",
      "PARLEY_SUMMIT_Snow_Depth_(mm) :  406.0\n",
      "PARLEY_SUMMIT_Max_Temp_(tenths_C) :  -26.0\n",
      "PARLEY_SUMMIT_Min_Temp_(tenths_C) :  -75.0\n",
      "PARLEY_SUMMIT_Avg_Daily_Temp_(tenths_C) :  -53.0\n",
      "PARLEY_SUMMIT_Temp_at_Observation_(tenths_C) :  -42.0\n",
      "PARLEY_SUMMIT_Snow_on_Ground_(tenths_mm) :  914.0\n"
     ]
    }
   ],
   "source": [
    "tmpdf = pd.read_csv('resources/DATA.csv')\n",
    "for col, val in zip(tmpdf.columns, tmpdf.iloc[1]):\n",
    "    print(col, \": \", val)"
   ]
  },
  {
   "cell_type": "code",
   "execution_count": 5,
   "metadata": {},
   "outputs": [
    {
     "data": {
      "text/html": [
       "<div>\n",
       "<style scoped>\n",
       "    .dataframe tbody tr th:only-of-type {\n",
       "        vertical-align: middle;\n",
       "    }\n",
       "\n",
       "    .dataframe tbody tr th {\n",
       "        vertical-align: top;\n",
       "    }\n",
       "\n",
       "    .dataframe thead th {\n",
       "        text-align: right;\n",
       "    }\n",
       "</style>\n",
       "<table border=\"1\" class=\"dataframe\">\n",
       "  <thead>\n",
       "    <tr style=\"text-align: right;\">\n",
       "      <th></th>\n",
       "      <th>ALTA_Precip_(tenths_mm)</th>\n",
       "      <th>ALTA_Snowfall_(mm)</th>\n",
       "      <th>ALTA_Snow_Depth_(mm)</th>\n",
       "      <th>ALTA_Max_Temp_(tenths_C)</th>\n",
       "      <th>ALTA_Min_Temp_(tenths_C)</th>\n",
       "      <th>ALTA_Multiday_Prec_Days</th>\n",
       "      <th>ALTA_Multiday_Snowfall_Days</th>\n",
       "      <th>ALTA_Multiday_Prec_Days_(tenths_mm)</th>\n",
       "      <th>ALTA_Multiday_Snowfall</th>\n",
       "      <th>ALTA_Temp_at_Observation_(tenths_C)</th>\n",
       "      <th>...</th>\n",
       "      <th>MW_prev</th>\n",
       "      <th>MNW_prev</th>\n",
       "      <th>LN_prev</th>\n",
       "      <th>LNE_prev</th>\n",
       "      <th>LE_prev</th>\n",
       "      <th>LSE_prev</th>\n",
       "      <th>LS_prev</th>\n",
       "      <th>LSW_prev</th>\n",
       "      <th>LW_prev</th>\n",
       "      <th>LNW_prev</th>\n",
       "    </tr>\n",
       "  </thead>\n",
       "  <tbody>\n",
       "    <tr>\n",
       "      <th>0</th>\n",
       "      <td>0.0</td>\n",
       "      <td>0.0</td>\n",
       "      <td>508.0</td>\n",
       "      <td>-44.0</td>\n",
       "      <td>-106.0</td>\n",
       "      <td>0.0</td>\n",
       "      <td>0.0</td>\n",
       "      <td>0.0</td>\n",
       "      <td>0.0</td>\n",
       "      <td>-83.0</td>\n",
       "      <td>...</td>\n",
       "      <td>0.0</td>\n",
       "      <td>0.0</td>\n",
       "      <td>0.0</td>\n",
       "      <td>0.0</td>\n",
       "      <td>0.0</td>\n",
       "      <td>0.0</td>\n",
       "      <td>0.0</td>\n",
       "      <td>0.0</td>\n",
       "      <td>0.0</td>\n",
       "      <td>0.0</td>\n",
       "    </tr>\n",
       "    <tr>\n",
       "      <th>1</th>\n",
       "      <td>0.0</td>\n",
       "      <td>0.0</td>\n",
       "      <td>508.0</td>\n",
       "      <td>-39.0</td>\n",
       "      <td>-139.0</td>\n",
       "      <td>0.0</td>\n",
       "      <td>0.0</td>\n",
       "      <td>0.0</td>\n",
       "      <td>0.0</td>\n",
       "      <td>-83.0</td>\n",
       "      <td>...</td>\n",
       "      <td>2.0</td>\n",
       "      <td>2.0</td>\n",
       "      <td>1.0</td>\n",
       "      <td>1.0</td>\n",
       "      <td>1.0</td>\n",
       "      <td>1.0</td>\n",
       "      <td>1.0</td>\n",
       "      <td>1.0</td>\n",
       "      <td>1.0</td>\n",
       "      <td>1.0</td>\n",
       "    </tr>\n",
       "    <tr>\n",
       "      <th>2</th>\n",
       "      <td>0.0</td>\n",
       "      <td>0.0</td>\n",
       "      <td>483.0</td>\n",
       "      <td>33.0</td>\n",
       "      <td>-89.0</td>\n",
       "      <td>0.0</td>\n",
       "      <td>0.0</td>\n",
       "      <td>0.0</td>\n",
       "      <td>0.0</td>\n",
       "      <td>-11.0</td>\n",
       "      <td>...</td>\n",
       "      <td>2.0</td>\n",
       "      <td>2.0</td>\n",
       "      <td>1.0</td>\n",
       "      <td>1.0</td>\n",
       "      <td>1.0</td>\n",
       "      <td>1.0</td>\n",
       "      <td>1.0</td>\n",
       "      <td>1.0</td>\n",
       "      <td>1.0</td>\n",
       "      <td>1.0</td>\n",
       "    </tr>\n",
       "    <tr>\n",
       "      <th>3</th>\n",
       "      <td>0.0</td>\n",
       "      <td>0.0</td>\n",
       "      <td>483.0</td>\n",
       "      <td>33.0</td>\n",
       "      <td>-33.0</td>\n",
       "      <td>0.0</td>\n",
       "      <td>0.0</td>\n",
       "      <td>0.0</td>\n",
       "      <td>0.0</td>\n",
       "      <td>-28.0</td>\n",
       "      <td>...</td>\n",
       "      <td>2.0</td>\n",
       "      <td>2.0</td>\n",
       "      <td>1.0</td>\n",
       "      <td>1.0</td>\n",
       "      <td>1.0</td>\n",
       "      <td>1.0</td>\n",
       "      <td>1.0</td>\n",
       "      <td>1.0</td>\n",
       "      <td>1.0</td>\n",
       "      <td>1.0</td>\n",
       "    </tr>\n",
       "    <tr>\n",
       "      <th>4</th>\n",
       "      <td>0.0</td>\n",
       "      <td>0.0</td>\n",
       "      <td>483.0</td>\n",
       "      <td>67.0</td>\n",
       "      <td>-50.0</td>\n",
       "      <td>0.0</td>\n",
       "      <td>0.0</td>\n",
       "      <td>0.0</td>\n",
       "      <td>0.0</td>\n",
       "      <td>0.0</td>\n",
       "      <td>...</td>\n",
       "      <td>2.0</td>\n",
       "      <td>2.0</td>\n",
       "      <td>1.0</td>\n",
       "      <td>1.0</td>\n",
       "      <td>1.0</td>\n",
       "      <td>1.0</td>\n",
       "      <td>1.0</td>\n",
       "      <td>1.0</td>\n",
       "      <td>1.0</td>\n",
       "      <td>1.0</td>\n",
       "    </tr>\n",
       "  </tbody>\n",
       "</table>\n",
       "<p>5 rows × 88 columns</p>\n",
       "</div>"
      ],
      "text/plain": [
       "   ALTA_Precip_(tenths_mm)  ALTA_Snowfall_(mm)  ALTA_Snow_Depth_(mm)  \\\n",
       "0                      0.0                 0.0                 508.0   \n",
       "1                      0.0                 0.0                 508.0   \n",
       "2                      0.0                 0.0                 483.0   \n",
       "3                      0.0                 0.0                 483.0   \n",
       "4                      0.0                 0.0                 483.0   \n",
       "\n",
       "   ALTA_Max_Temp_(tenths_C)  ALTA_Min_Temp_(tenths_C)  \\\n",
       "0                     -44.0                    -106.0   \n",
       "1                     -39.0                    -139.0   \n",
       "2                      33.0                     -89.0   \n",
       "3                      33.0                     -33.0   \n",
       "4                      67.0                     -50.0   \n",
       "\n",
       "   ALTA_Multiday_Prec_Days  ALTA_Multiday_Snowfall_Days  \\\n",
       "0                      0.0                          0.0   \n",
       "1                      0.0                          0.0   \n",
       "2                      0.0                          0.0   \n",
       "3                      0.0                          0.0   \n",
       "4                      0.0                          0.0   \n",
       "\n",
       "   ALTA_Multiday_Prec_Days_(tenths_mm)  ALTA_Multiday_Snowfall  \\\n",
       "0                                  0.0                     0.0   \n",
       "1                                  0.0                     0.0   \n",
       "2                                  0.0                     0.0   \n",
       "3                                  0.0                     0.0   \n",
       "4                                  0.0                     0.0   \n",
       "\n",
       "   ALTA_Temp_at_Observation_(tenths_C)  ...  MW_prev  MNW_prev  LN_prev  \\\n",
       "0                                -83.0  ...      0.0       0.0      0.0   \n",
       "1                                -83.0  ...      2.0       2.0      1.0   \n",
       "2                                -11.0  ...      2.0       2.0      1.0   \n",
       "3                                -28.0  ...      2.0       2.0      1.0   \n",
       "4                                  0.0  ...      2.0       2.0      1.0   \n",
       "\n",
       "   LNE_prev  LE_prev  LSE_prev  LS_prev  LSW_prev  LW_prev  LNW_prev  \n",
       "0       0.0      0.0       0.0      0.0       0.0      0.0       0.0  \n",
       "1       1.0      1.0       1.0      1.0       1.0      1.0       1.0  \n",
       "2       1.0      1.0       1.0      1.0       1.0      1.0       1.0  \n",
       "3       1.0      1.0       1.0      1.0       1.0      1.0       1.0  \n",
       "4       1.0      1.0       1.0      1.0       1.0      1.0       1.0  \n",
       "\n",
       "[5 rows x 88 columns]"
      ]
     },
     "execution_count": 5,
     "metadata": {},
     "output_type": "execute_result"
    }
   ],
   "source": [
    "# Data\n",
    "df = pd.read_csv('resources/DATA.csv')\n",
    "\n",
    "# Target Columns\n",
    "target_columns = [\n",
    "    'HN',\n",
    "    'HNE',\n",
    "    'HE',\n",
    "    'HSE',\n",
    "    'HS',\n",
    "    'HSW',\n",
    "    'HW',\n",
    "    'HNW',\n",
    "    'MN',\n",
    "    'MNE',\n",
    "    'ME',\n",
    "    'MSE',\n",
    "    'MS',\n",
    "    'MSW',\n",
    "    'MW',\n",
    "    'MNW',\n",
    "    'LN',\n",
    "    'LNE',\n",
    "    'LE',\n",
    "    'LSE',\n",
    "    'LS',\n",
    "    'LSW',\n",
    "    'LW',\n",
    "    'LNW'\n",
    "]\n",
    "\n",
    "# Convert colors to numbers\n",
    "map = {\n",
    "    'gray': 0,\n",
    "    'green': 1,\n",
    "    'yellow': 2,\n",
    "    'orange': 3,\n",
    "    'red': 4,\n",
    "    'black': 5,    \n",
    "}\n",
    "\n",
    "# For target columns\n",
    "for col in target_columns:\n",
    "    df[col] = df[col].map(map)\n",
    "    \n",
    "input_columns = [\n",
    "    'ALTA_Precip_(tenths_mm)',\n",
    "    'ALTA_Snowfall_(mm)',\n",
    "    'ALTA_Snow_Depth_(mm)',\n",
    "    'ALTA_Max_Temp_(tenths_C)',\n",
    "    'ALTA_Min_Temp_(tenths_C)',\n",
    "    'ALTA_Multiday_Prec_Days',\n",
    "    'ALTA_Multiday_Snowfall_Days',\n",
    "    'ALTA_Multiday_Prec_Days_(tenths_mm)',\n",
    "    'ALTA_Multiday_Snowfall',\n",
    "    'ALTA_Temp_at_Observation_(tenths_C)',\n",
    "    'ALTA_Fog_Ice_Fog',\n",
    "    'ALTA_Heavy_Fog_Freezing_Fog',\n",
    "    'ALTA_Ice_Pellets_Sleet',\n",
    "    'ALTA_Hail',\n",
    "    'ALTA_Glaze_Rime',\n",
    "    'ALTA_Weather_Type_07',\n",
    "    'ALTA_Smoke_Haze',\n",
    "    'ALTA_Blowing_Drifting_Snow',\n",
    "    'ALTA_High_Winds',\n",
    "    'ALTA_Snow_Pellets_Ice_Crystals',\n",
    "    'BRIGHTON_Precip_(tenths_mm)',\n",
    "    'BRIGHTON_Snow_Depth_(mm)',\n",
    "    'BRIGHTON_Max_Temp_(tenths_C)',\n",
    "    'BRIGHTON_Min_Temp_(tenths_C)',\n",
    "    'BRIGHTON_Avg_Daily_Temp_(tenths_C)',\n",
    "    'BRIGHTON_Temp_at_Observation_(tenths_C)',\n",
    "    'BRIGHTON_Snow_on_Ground_(tenths_mm)',\n",
    "    'THAYNES_Precip_(tenths_mm)',\n",
    "    'THAYNES_Snow_Depth_(mm)',\n",
    "    'THAYNES_Max_Temp_(tenths_C)',\n",
    "    'THAYNES_Min_Temp_(tenths_C)',\n",
    "    'THAYNES_Avg_Daily_Temp_(tenths_C)',\n",
    "    'THAYNES_Temp_at_Observation_(tenths_C)',\n",
    "    'THAYNES_Snow_on_Ground_(tenths_mm)',\n",
    "    'PARLEY_SUMMIT_Precip_(tenths_mm)',\n",
    "    'PARLEY_SUMMIT_Snow_Depth_(mm)',\n",
    "    'PARLEY_SUMMIT_Max_Temp_(tenths_C)',\n",
    "    'PARLEY_SUMMIT_Min_Temp_(tenths_C)',\n",
    "    'PARLEY_SUMMIT_Temp_at_Observation_(tenths_C)',\n",
    "    'PARLEY_SUMMIT_Snow_on_Ground_(tenths_mm)'\n",
    "]\n",
    "\n",
    "# Select only input columns and target columns\n",
    "df = df[input_columns + target_columns]\n",
    "\n",
    "# add previous columns\n",
    "for col in target_columns:\n",
    "    input_columns.append(col + '_prev')\n",
    "    df[col + '_prev'] = df[col].shift(1)\n",
    "\n",
    "# Fill NA with 0\n",
    "df = df.fillna(0)\n",
    "\n",
    "df.head()"
   ]
  },
  {
   "cell_type": "markdown",
   "metadata": {},
   "source": [
    "# MLP"
   ]
  },
  {
   "cell_type": "code",
   "execution_count": 6,
   "metadata": {},
   "outputs": [],
   "source": [
    "from torch.utils.data import Dataset, DataLoader\n",
    "from sklearn.model_selection import train_test_split\n",
    "\n",
    "# Create Dataloaders\n",
    "class AvalancheDataset(Dataset):\n",
    "    def __init__(self, df, train=True):\n",
    "        self.df = df\n",
    "        self.train = train\n",
    "        self.input_columns = input_columns\n",
    "        self.target_columns = target_columns\n",
    "        # Make X and y (np arrays)\n",
    "        X = df[self.input_columns].values.astype(np.float32)\n",
    "        y = df[self.target_columns].values.astype(np.float32)\n",
    "        \n",
    "        # Mean for each row\n",
    "        avalanche_risk = np.mean(y, axis=1).round().astype(int)\n",
    "        y = np.zeros((len(avalanche_risk), 6))\n",
    "        y[np.arange(len(avalanche_risk)), avalanche_risk] = 1\n",
    "        \n",
    "        # Split into train and test\n",
    "        self.X_train, self.X_test, self.y_train, self.y_test = train_test_split(X, y, test_size=0.2)\n",
    "        \n",
    "        \n",
    "    def __len__(self):\n",
    "        if self.train:\n",
    "            return len(self.X_train)\n",
    "        else:\n",
    "            return len(self.X_test)\n",
    "        \n",
    "    \n",
    "    def __getitem__(self, idx):\n",
    "        if self.train:\n",
    "            return self.X_train[idx], self.y_train[idx]\n",
    "        else:\n",
    "            return self.X_test[idx], self.y_test[idx]"
   ]
  },
  {
   "cell_type": "code",
   "execution_count": 7,
   "metadata": {},
   "outputs": [],
   "source": [
    "# Model\n",
    "# A simple multi-layer perceptron with parameters controlling the number of layers and hidden units per layer.\n",
    "class SingleLayer(nn.Module):\n",
    "    def __init__(self, input_size, output_size):\n",
    "        super(SingleLayer, self).__init__()\n",
    "        self.linear = nn.Linear(input_size, output_size)\n",
    "        self.norm = nn.BatchNorm1d(output_size)\n",
    "        self.relu = nn.ReLU()\n",
    "\n",
    "    def forward(self, x):\n",
    "        x = self.linear(x)\n",
    "        x = self.norm(x)\n",
    "        x = self.relu(x)\n",
    "        return x\n",
    "\n",
    "class AvalancheModel(nn.Module):\n",
    "    def __init__(self, input_size, output_size, hidden_size=128, hidden_layers=2):\n",
    "        super(AvalancheModel, self).__init__()\n",
    "        self.input_size = input_size\n",
    "        self.output_size = output_size\n",
    "        self.hidden_size = hidden_size\n",
    "        self.hidden_layers = hidden_layers\n",
    "        \n",
    "        self.layers = nn.ModuleList()\n",
    "        self.layers.append(SingleLayer(input_size, hidden_size))\n",
    "        for i in range(hidden_layers):\n",
    "            self.layers.append(SingleLayer(hidden_size, hidden_size))\n",
    "        self.layers.append(SingleLayer(hidden_size, output_size))\n",
    "        \n",
    "    def forward(self, x):\n",
    "        \"\"\"\n",
    "        x: (batch_size, input_size)\n",
    "        returns: (batch_size, output_size)\n",
    "        \"\"\"\n",
    "        for layer in self.layers:\n",
    "            x = layer(x)\n",
    "        return F.softmax(x, dim=1)"
   ]
  },
  {
   "cell_type": "code",
   "execution_count": 8,
   "metadata": {},
   "outputs": [
    {
     "name": "stdout",
     "output_type": "stream",
     "text": [
      "cuda:0\n"
     ]
    }
   ],
   "source": [
    "device = torch.device(\"cuda:0\" if torch.cuda.is_available() else \"cpu\")\n",
    "print(device)"
   ]
  },
  {
   "cell_type": "code",
   "execution_count": 14,
   "metadata": {},
   "outputs": [],
   "source": [
    "# Initialize Variables\n",
    "batch_size = 32\n",
    "train_dataset = AvalancheDataset(df)\n",
    "test_dataset = AvalancheDataset(df, train=False)\n",
    "train_dataloader = DataLoader(train_dataset, batch_size=batch_size, shuffle=True)\n",
    "test_dataloader = DataLoader(test_dataset, batch_size=batch_size, shuffle=True)\n",
    "# model = AvalancheModel(len(input_columns), 6, hidden_size=64, hidden_layers=8)\n",
    "model = AvalancheModel(len(input_columns), 6, hidden_size=128, hidden_layers=16)\n",
    "model.to(device)\n",
    "criterion = nn.CrossEntropyLoss()\n",
    "optimizer = optim.Adam(model.parameters(), lr=0.0001)"
   ]
  },
  {
   "cell_type": "code",
   "execution_count": 15,
   "metadata": {},
   "outputs": [],
   "source": [
    "def calculate_accuracy(y_pred, y, dim=1):\n",
    "    # both are (batch_size, 6)\n",
    "    y_pred = torch.argmax(y_pred, dim=dim)\n",
    "    y = torch.argmax(y, dim=1)\n",
    "    return (y_pred == y).sum().item() / y_pred.shape[0]"
   ]
  },
  {
   "cell_type": "code",
   "execution_count": 16,
   "metadata": {},
   "outputs": [
    {
     "name": "stderr",
     "output_type": "stream",
     "text": [
      "Epochs: 100%|██████████| 100/100 [01:48<00:00,  1.09s/epoch, Loss: 1.7522]\n"
     ]
    }
   ],
   "source": [
    "# Train Model\n",
    "from tqdm.auto import tqdm\n",
    "from time import sleep\n",
    "num_epochs = 100\n",
    "total_step = len(train_dataloader)\n",
    "\n",
    "losses = []\n",
    "accuracies = []\n",
    "val_losses = []\n",
    "val_accuracies = []\n",
    "with tqdm(range(num_epochs), desc=\"Epochs\", total=num_epochs, leave=True, position=0, unit='epoch') as iterator:\n",
    "    for epoch in iterator:\n",
    "        # tqdm.set_description_str(f\"Epoch {epoch+1}\")\n",
    "        for i, (X, y) in enumerate(train_dataloader):\n",
    "            # Move tensors to the configured device\n",
    "            X = X.to(device)\n",
    "            y = y.to(device)\n",
    "            # print(X.shape, y.shape)\n",
    "            # break\n",
    "            \n",
    "            # # Forward pass\n",
    "            y_pred = model(X)\n",
    "            \n",
    "            # print(y_pred.shape)\n",
    "            loss = criterion(y_pred, y)\n",
    "            losses.append(loss.item())\n",
    "            accuracy = calculate_accuracy(y_pred, y)\n",
    "            accuracies.append(accuracy)\n",
    "            \n",
    "            # break\n",
    "                                         \n",
    "            # # Backward and optimize\n",
    "            optimizer.zero_grad()\n",
    "            loss.backward()\n",
    "            \n",
    "            optimizer.step()\n",
    "\n",
    "            iterator.set_postfix_str(f\"Loss: {loss.item():.4f}\")\n",
    "            if i % 10 == 0: \n",
    "                tmp_val_losses = []\n",
    "                tmp_val_accuracies = []\n",
    "                for X, y in test_dataloader:\n",
    "                    X = X.to(device)\n",
    "                    y = y.to(device)\n",
    "                    y_pred = model(X)\n",
    "                    val_loss = criterion(y_pred, y)\n",
    "                    tmp_val_losses.append(val_loss.item())\n",
    "                    val_accuracy = calculate_accuracy(y_pred, y)\n",
    "                    tmp_val_accuracies.append(val_accuracy)\n",
    "                val_losses.append(np.mean(tmp_val_losses))\n",
    "                val_accuracies.append(np.mean(tmp_val_accuracies))\n",
    "                # iterator.set_description_str(f\"Val Loss: {np.mean(val_losses):.4f}\")      \n"
   ]
  },
  {
   "cell_type": "code",
   "execution_count": 17,
   "metadata": {},
   "outputs": [
    {
     "data": {
      "text/plain": [
       "[<matplotlib.lines.Line2D at 0x29144455f50>]"
      ]
     },
     "execution_count": 17,
     "metadata": {},
     "output_type": "execute_result"
    },
    {
     "data": {
      "image/png": "[encoded data removed]",
      "text/plain": [
       "<Figure size 640x480 with 1 Axes>"
      ]
     },
     "metadata": {},
     "output_type": "display_data"
    }
   ],
   "source": [
    "# Plot Results\n",
    "# Plot Loss\n",
    "import matplotlib.pyplot as plt\n",
    "plt.plot(val_accuracies)"
   ]
  },
  {
   "cell_type": "code",
   "execution_count": null,
   "metadata": {},
   "outputs": [],
   "source": [
    "val_accuracies = []\n",
    "for X, y in test_dataloader:\n",
    "    X = X.to(device)\n",
    "    y = y.to(device)\n",
    "    y_pred = model(X)\n",
    "    val_accuracy = calculate_accuracy(y_pred, y)\n",
    "    val_accuracies.append(val_accuracy)\n",
    "print(\"Mean Validation Accuracy: \", np.mean(val_accuracies))"
   ]
  },
  {
   "cell_type": "code",
   "execution_count": 13,
   "metadata": {},
   "outputs": [],
   "source": [
    "# GRU Data\n",
    "# Create a Dataloader for GRU by chunking the data\n",
    "# Output: An average risk\n",
    "class AvalancheGRUDataset(Dataset):\n",
    "    def __init__(self, df, chunk_size=16, chunks=100, train=True):\n",
    "        self.df = df\n",
    "        self.train = train\n",
    "        self.input_columns = input_columns\n",
    "        self.target_columns = target_columns\n",
    "        self.chunk_size = chunk_size\n",
    "        self.chunks = chunks\n",
    "        \n",
    "        # Make X and y (np arrays)\n",
    "        X = df[self.input_columns].values.astype(np.float32)\n",
    "        y = df[self.target_columns].values.astype(np.float32)\n",
    "        \n",
    "        # Mean for each row / Hot encode\n",
    "        avalanche_risk = np.mean(y, axis=1).round().astype(int)\n",
    "        y = np.zeros((len(avalanche_risk), 6))\n",
    "        y[np.arange(len(avalanche_risk)), avalanche_risk] = 1\n",
    "        X = torch.from_numpy(X)\n",
    "        y = torch.from_numpy(y)\n",
    "        \n",
    "        # Split\n",
    "        train_ratio = 0.8\n",
    "        train_size = int(len(X) * train_ratio)\n",
    "        self.X_train = X[:train_size]\n",
    "        self.y_train = y[:train_size]\n",
    "        self.X_test = X[train_size:]\n",
    "        self.y_test = y[train_size:]\n",
    "        \n",
    "        \n",
    "    def __len__(self):\n",
    "        return self.chunks\n",
    "        \n",
    "        \n",
    "    def __getitem__(self, idx):\n",
    "        if self.train:\n",
    "            random_idx = np.random.randint(0, len(self.X_train) - self.chunk_size)\n",
    "            return self.X_train[random_idx:random_idx+self.chunk_size], self.y_train[random_idx:random_idx+self.chunk_size]\n",
    "        else:\n",
    "            random_idx = np.random.randint(0, len(self.X_test) - self.chunk_size)\n",
    "            return self.X_test[random_idx:random_idx+self.chunk_size], self.y_test[random_idx:random_idx+self.chunk_size]"
   ]
  },
  {
   "cell_type": "code",
   "execution_count": 14,
   "metadata": {},
   "outputs": [],
   "source": [
    "# GRU Model\n",
    "class AvalancheGRU(nn.Module):\n",
    "    def __init__(self, input_size, output_size, hidden_size=128, hidden_layers=2):\n",
    "        super(AvalancheGRU, self).__init__()\n",
    "        self.input_size = input_size\n",
    "        self.output_size = output_size\n",
    "        self.hidden_size = hidden_size\n",
    "        self.hidden_layers = hidden_layers\n",
    "        \n",
    "        # self.linear1 = nn.Linear(input_size, hidden_size)\n",
    "        # self.relu1 = nn.ReLU()\n",
    "        self.gru = nn.GRU(input_size, hidden_size, hidden_layers, batch_first=True, dropout=0.2)\n",
    "        self.relu2 = nn.ReLU()\n",
    "        self.linear2 = nn.Linear(hidden_size, output_size)\n",
    "        self.softmax = nn.Softmax(dim=0)\n",
    "        \n",
    "        \n",
    "    def forward(self, x, hidden):\n",
    "        \"\"\"\n",
    "        x: (batch_size, seq_len, input_size)\n",
    "        returns: (batch_size, output_size)\n",
    "        \"\"\"\n",
    "        # x = self.linear1(x)\n",
    "        # x = self.relu1(x)\n",
    "        x, hidden = self.gru(x, hidden)\n",
    "        x = self.relu2(x[:, -1])\n",
    "        x = self.linear2(x)\n",
    "        x = self.softmax(x)\n",
    "        \n",
    "        return x, hidden\n",
    "    \n",
    "    def init_hidden(self):\n",
    "        return torch.zeros(self.hidden_layers, self.hidden_size)"
   ]
  },
  {
   "cell_type": "code",
   "execution_count": 51,
   "metadata": {},
   "outputs": [],
   "source": [
    "# Initialize Variables\n",
    "batch_size = 1\n",
    "train_dataset = AvalancheGRUDataset(df, chunks=80, chunk_size=8, train=True)\n",
    "test_dataset = AvalancheGRUDataset(df, chunks=20, chunk_size=8, train=False)\n",
    "train_dataloader = DataLoader(train_dataset, batch_size=1, shuffle=False)\n",
    "test_dataloader = DataLoader(test_dataset, batch_size=1, shuffle=False)\n",
    "model = AvalancheGRU(len(input_columns), 6, hidden_size=8, hidden_layers=2)\n",
    "model.to(device)\n",
    "criterion = nn.CrossEntropyLoss()\n",
    "optimizer = optim.Adam(model.parameters(), lr=0.01)"
   ]
  },
  {
   "cell_type": "code",
   "execution_count": 52,
   "metadata": {},
   "outputs": [],
   "source": [
    "# Train Model\n",
    "import gc\n",
    "def train(model, train_dataloader, test_dataloader, criterion, optimizer, num_epochs=1):\n",
    "    total_step = len(train_dataloader)\n",
    "\n",
    "    losses = []\n",
    "    accuracies = []\n",
    "    val_losses = []\n",
    "    val_accuracies = []\n",
    "    # with tqdm(range(num_epochs), desc=\"Epochs\", total=num_epochs, leave=True, position=0, unit='epoch') as iterator:\n",
    "    for epoch in range(num_epochs):\n",
    "        print(f\"Epoch {epoch+1}\")\n",
    "        with tqdm(enumerate(train_dataloader), desc=\"Batches\", total=len(train_dataloader), leave=True, position=0, unit='batch') as iterator:\n",
    "            for i, (X, y) in iterator: # this is just the number of chunks\n",
    "                # if i % 10 == 0:\n",
    "                #     print(f\"Batch {i}\")\n",
    "                X = X.to(device).squeeze(0)\n",
    "                y = y.to(device).squeeze(0)\n",
    "                # print('X shape', X.shape)\n",
    "                # print('y shape', y.shape)\n",
    "                # break\n",
    "                \n",
    "                # Full Forward Pass\n",
    "                # print(\"Starting Forward Pass\")\n",
    "                hidden = model.init_hidden().to(device)\n",
    "                optimizer.zero_grad()\n",
    "                y_pred, hidden = model(X, hidden)\n",
    "                # print('y_pred: ', y_pred.shape)\n",
    "                # print('y: ', y[-1].shape)\n",
    "                # break\n",
    "                loss = criterion(y_pred, y[-1])\n",
    "                \n",
    "                    \n",
    "                # Back Pass\n",
    "                # print(\"Starting Backward Pass\")\n",
    "                loss.backward()\n",
    "                optimizer.step()\n",
    "                gc.collect()\n",
    "                \n",
    "                losses.append(loss.item())\n",
    "                # print(y_pred.shape)\n",
    "                # print(y[-1].shape)\n",
    "                pred = torch.argmax(y_pred)\n",
    "                real = torch.argmax(y[-1])\n",
    "                accuracy = (pred == real).sum().item() # 0 or 1\n",
    "                accuracies.append(accuracy)\n",
    "\n",
    "                \n",
    "                # accuracies.append(accuracy)\n",
    "                iterator.set_postfix_str(f\"Loss: {loss.item():.4f}\")\n",
    "                \n",
    "                # Validation\n",
    "                if i % 10 == 0:\n",
    "                    tmp_val_accuracies = []\n",
    "                    tmp_val_losses = []\n",
    "                    for X, y in test_dataloader:\n",
    "                        X = X.to(device).squeeze(0)\n",
    "                        y = y.to(device).squeeze(0)\n",
    "                        hidden = model.init_hidden().to(device)\n",
    "                        y_pred, hidden = model(X, hidden)\n",
    "                        val_loss = criterion(y_pred, y[-1])\n",
    "                        tmp_val_losses.append(val_loss.item())\n",
    "                        # val_accuracy = calculate_accuracy(y_pred, y[-1])\n",
    "                        # tmp_val_accuracies.append(val_accuracy)\n",
    "                        pred = torch.argmax(y_pred)\n",
    "                        real = torch.argmax(y[-1])\n",
    "                        accuracy = (pred == real).sum().item() # 0 or 1\n",
    "                        tmp_val_accuracies.append(accuracy)\n",
    "                    val_losses.append(np.mean(tmp_val_losses))\n",
    "                    val_accuracies.append(np.mean(tmp_val_accuracies))\n",
    "                \n",
    "                \n",
    "                # if i % 10 == 0 and i != 0: \n",
    "                #     tmp_val_losses = []\n",
    "                #     tmp_val_accuracies = []\n",
    "                #     # print(len(test_dataloader))\n",
    "                #     with tqdm(enumerate(test_dataloader), desc=\"Val Batches\", total=len(test_dataloader), leave=True, position=1, unit='batch') as test_iter:\n",
    "                #         for j, (X, y) in test_iter:\n",
    "                #             # print(i)\n",
    "                #             X = X.to(device)\n",
    "                #             y = y.to(device)\n",
    "                #             hidden = model.init_hidden().to(device)\n",
    "                #             val_loss = 0\n",
    "                #             y_pred, hidden = None, None\n",
    "                #             for j in range(X.shape[0]):\n",
    "                #                 y_pred, hidden = model(X[j].unsqueeze(0), hidden)\n",
    "                #                 val_loss += criterion(y_pred, y[j].unsqueeze(0))\n",
    "                #             tmp_val_losses.append(val_loss.item())\n",
    "                #             val_accuracy = calculate_accuracy(y_pred, y[-1].unsqueeze(0))\n",
    "                #             tmp_val_accuracies.append(val_accuracy)\n",
    "                #             test_iter.set_postfix_str(f\"Val Loss: {np.mean(tmp_val_losses):.4f}\")\n",
    "                #     val_losses.append(np.mean(tmp_val_losses))\n",
    "                #     val_accuracies.append(np.mean(tmp_val_accuracies))\n",
    "                #     iterator.set_description_str(f\"Val Loss: {np.mean(val_losses):.4f}\")   \n",
    "                #     gc.collect()\n",
    "    return losses, accuracies, val_losses, val_accuracies   "
   ]
  },
  {
   "cell_type": "code",
   "execution_count": 53,
   "metadata": {},
   "outputs": [
    {
     "name": "stdout",
     "output_type": "stream",
     "text": [
      "Epoch 1\n"
     ]
    },
    {
     "name": "stderr",
     "output_type": "stream",
     "text": [
      "Batches: 100%|██████████| 80/80 [00:14<00:00,  5.63batch/s, Loss: 1.7682]\n"
     ]
    },
    {
     "name": "stdout",
     "output_type": "stream",
     "text": [
      "Epoch 2\n"
     ]
    },
    {
     "name": "stderr",
     "output_type": "stream",
     "text": [
      "Batches: 100%|██████████| 80/80 [00:13<00:00,  5.75batch/s, Loss: 1.7749]\n"
     ]
    },
    {
     "name": "stdout",
     "output_type": "stream",
     "text": [
      "Epoch 3\n"
     ]
    },
    {
     "name": "stderr",
     "output_type": "stream",
     "text": [
      "Batches: 100%|██████████| 80/80 [00:14<00:00,  5.67batch/s, Loss: 1.6216]\n"
     ]
    },
    {
     "name": "stdout",
     "output_type": "stream",
     "text": [
      "Epoch 4\n"
     ]
    },
    {
     "name": "stderr",
     "output_type": "stream",
     "text": [
      "Batches: 100%|██████████| 80/80 [00:14<00:00,  5.50batch/s, Loss: 1.8680]\n"
     ]
    },
    {
     "name": "stdout",
     "output_type": "stream",
     "text": [
      "Epoch 5\n"
     ]
    },
    {
     "name": "stderr",
     "output_type": "stream",
     "text": [
      "Batches: 100%|██████████| 80/80 [00:13<00:00,  5.84batch/s, Loss: 1.4848]\n"
     ]
    },
    {
     "name": "stdout",
     "output_type": "stream",
     "text": [
      "Epoch 6\n"
     ]
    },
    {
     "name": "stderr",
     "output_type": "stream",
     "text": [
      "Batches: 100%|██████████| 80/80 [00:13<00:00,  5.72batch/s, Loss: 1.6553]\n"
     ]
    },
    {
     "name": "stdout",
     "output_type": "stream",
     "text": [
      "Epoch 7\n"
     ]
    },
    {
     "name": "stderr",
     "output_type": "stream",
     "text": [
      "Batches: 100%|██████████| 80/80 [00:13<00:00,  5.81batch/s, Loss: 1.3356]\n"
     ]
    },
    {
     "name": "stdout",
     "output_type": "stream",
     "text": [
      "Epoch 8\n"
     ]
    },
    {
     "name": "stderr",
     "output_type": "stream",
     "text": [
      "Batches: 100%|██████████| 80/80 [00:14<00:00,  5.61batch/s, Loss: 1.3185]\n"
     ]
    },
    {
     "name": "stdout",
     "output_type": "stream",
     "text": [
      "Epoch 9\n"
     ]
    },
    {
     "name": "stderr",
     "output_type": "stream",
     "text": [
      "Batches: 100%|██████████| 80/80 [00:13<00:00,  5.77batch/s, Loss: 1.2611]\n"
     ]
    },
    {
     "name": "stdout",
     "output_type": "stream",
     "text": [
      "Epoch 10\n"
     ]
    },
    {
     "name": "stderr",
     "output_type": "stream",
     "text": [
      "Batches: 100%|██████████| 80/80 [00:13<00:00,  5.76batch/s, Loss: 1.7611]\n"
     ]
    },
    {
     "name": "stdout",
     "output_type": "stream",
     "text": [
      "Epoch 11\n"
     ]
    },
    {
     "name": "stderr",
     "output_type": "stream",
     "text": [
      "Batches: 100%|██████████| 80/80 [00:14<00:00,  5.71batch/s, Loss: 1.9645]\n"
     ]
    },
    {
     "name": "stdout",
     "output_type": "stream",
     "text": [
      "Epoch 12\n"
     ]
    },
    {
     "name": "stderr",
     "output_type": "stream",
     "text": [
      "Batches: 100%|██████████| 80/80 [00:14<00:00,  5.62batch/s, Loss: 1.2652]\n"
     ]
    },
    {
     "name": "stdout",
     "output_type": "stream",
     "text": [
      "Epoch 13\n"
     ]
    },
    {
     "name": "stderr",
     "output_type": "stream",
     "text": [
      "Batches: 100%|██████████| 80/80 [00:16<00:00,  4.97batch/s, Loss: 1.7894]\n"
     ]
    },
    {
     "name": "stdout",
     "output_type": "stream",
     "text": [
      "Epoch 14\n"
     ]
    },
    {
     "name": "stderr",
     "output_type": "stream",
     "text": [
      "Batches: 100%|██████████| 80/80 [00:16<00:00,  4.99batch/s, Loss: 1.9842]\n"
     ]
    },
    {
     "name": "stdout",
     "output_type": "stream",
     "text": [
      "Epoch 15\n"
     ]
    },
    {
     "name": "stderr",
     "output_type": "stream",
     "text": [
      "Batches: 100%|██████████| 80/80 [00:14<00:00,  5.44batch/s, Loss: 1.1795]\n"
     ]
    },
    {
     "name": "stdout",
     "output_type": "stream",
     "text": [
      "Epoch 16\n"
     ]
    },
    {
     "name": "stderr",
     "output_type": "stream",
     "text": [
      "Batches: 100%|██████████| 80/80 [00:14<00:00,  5.71batch/s, Loss: 1.8802]\n"
     ]
    },
    {
     "name": "stdout",
     "output_type": "stream",
     "text": [
      "Epoch 17\n"
     ]
    },
    {
     "name": "stderr",
     "output_type": "stream",
     "text": [
      "Batches: 100%|██████████| 80/80 [00:14<00:00,  5.64batch/s, Loss: 1.1668]\n"
     ]
    },
    {
     "name": "stdout",
     "output_type": "stream",
     "text": [
      "Epoch 18\n"
     ]
    },
    {
     "name": "stderr",
     "output_type": "stream",
     "text": [
      "Batches: 100%|██████████| 80/80 [00:14<00:00,  5.65batch/s, Loss: 1.1505]\n"
     ]
    },
    {
     "name": "stdout",
     "output_type": "stream",
     "text": [
      "Epoch 19\n"
     ]
    },
    {
     "name": "stderr",
     "output_type": "stream",
     "text": [
      "Batches: 100%|██████████| 80/80 [00:14<00:00,  5.57batch/s, Loss: 2.0174]\n"
     ]
    },
    {
     "name": "stdout",
     "output_type": "stream",
     "text": [
      "Epoch 20\n"
     ]
    },
    {
     "name": "stderr",
     "output_type": "stream",
     "text": [
      "Batches: 100%|██████████| 80/80 [00:14<00:00,  5.34batch/s, Loss: 1.9094]\n"
     ]
    }
   ],
   "source": [
    "losses, accuracies, val_losses, val_accuracies = train(model, train_dataloader, test_dataloader, criterion, optimizer, num_epochs=20)"
   ]
  },
  {
   "cell_type": "code",
   "execution_count": 19,
   "metadata": {},
   "outputs": [],
   "source": [
    "import matplotlib.pyplot as plt"
   ]
  },
  {
   "cell_type": "code",
   "execution_count": 54,
   "metadata": {},
   "outputs": [
    {
     "data": {
      "text/plain": [
       "[<matplotlib.lines.Line2D at 0x2b90509f0d0>]"
      ]
     },
     "execution_count": 54,
     "metadata": {},
     "output_type": "execute_result"
    },
    {
     "data": {
      "image/png": "[encoded data removed]",
      "text/plain": [
       "<Figure size 640x480 with 1 Axes>"
      ]
     },
     "metadata": {},
     "output_type": "display_data"
    }
   ],
   "source": [
    "plt.plot(losses)"
   ]
  },
  {
   "cell_type": "code",
   "execution_count": 55,
   "metadata": {},
   "outputs": [
    {
     "data": {
      "text/plain": [
       "[<matplotlib.lines.Line2D at 0x2b905399350>]"
      ]
     },
     "execution_count": 55,
     "metadata": {},
     "output_type": "execute_result"
    },
    {
     "data": {
      "image/png": "[encoded data removed]",
      "text/plain": [
       "<Figure size 640x480 with 1 Axes>"
      ]
     },
     "metadata": {},
     "output_type": "display_data"
    }
   ],
   "source": [
    "# Plot a moving average losses\n",
    "def moving_average(x, w):\n",
    "    return np.convolve(x, np.ones(w), 'valid') / w\n",
    "plt.plot(moving_average(losses, 80))"
   ]
  },
  {
   "cell_type": "code",
   "execution_count": 56,
   "metadata": {},
   "outputs": [
    {
     "data": {
      "text/plain": [
       "[<matplotlib.lines.Line2D at 0x2b905409510>]"
      ]
     },
     "execution_count": 56,
     "metadata": {},
     "output_type": "execute_result"
    },
    {
     "data": {
      "image/png": "[encoded data removed]",
      "text/plain": [
       "<Figure size 640x480 with 1 Axes>"
      ]
     },
     "metadata": {},
     "output_type": "display_data"
    }
   ],
   "source": [
    "# Accuracies are either 0 or 1, so lets create a moving average with window 20\n",
    "def moving_average(x, w):\n",
    "    return np.convolve(x, np.ones(w), 'valid') / w\n",
    "\n",
    "plt.plot(moving_average(accuracies, 32))"
   ]
  },
  {
   "cell_type": "code",
   "execution_count": 57,
   "metadata": {},
   "outputs": [
    {
     "data": {
      "text/plain": [
       "[<matplotlib.lines.Line2D at 0x2b90532b550>]"
      ]
     },
     "execution_count": 57,
     "metadata": {},
     "output_type": "execute_result"
    },
    {
     "data": {
      "image/png": "[encoded data removed]",
      "text/plain": [
       "<Figure size 640x480 with 1 Axes>"
      ]
     },
     "metadata": {},
     "output_type": "display_data"
    }
   ],
   "source": [
    "# Plot Results\n",
    "# Plot Loss\n",
    "plt.plot(val_accuracies)"
   ]
  },
  {
   "cell_type": "code",
   "execution_count": 58,
   "metadata": {},
   "outputs": [
    {
     "name": "stdout",
     "output_type": "stream",
     "text": [
      "0.65\n",
      "22\n"
     ]
    }
   ],
   "source": [
    "# Max Val Accuracy and Index\n",
    "print(np.max(val_accuracies))\n",
    "print(np.argmax(val_accuracies))"
   ]
  },
  {
   "cell_type": "code",
   "execution_count": 50,
   "metadata": {},
   "outputs": [
    {
     "name": "stdout",
     "output_type": "stream",
     "text": [
      "0.55\n",
      "86\n"
     ]
    }
   ],
   "source": [
    "# Max Val Accuracy and Index\n",
    "print(np.max(val_accuracies))\n",
    "print(np.argmax(val_accuracies))\n"
   ]
  },
  {
   "cell_type": "code",
   "execution_count": 21,
   "metadata": {},
   "outputs": [
    {
     "name": "stdout",
     "output_type": "stream",
     "text": [
      "Collecting xgboost\n",
      "  Downloading xgboost-2.0.2-py3-none-win_amd64.whl.metadata (2.0 kB)\n",
      "Requirement already satisfied: numpy in c:\\data\\byu\\fall2023\\201r\\avalanche\\.venv\\lib\\site-packages (from xgboost) (1.26.1)\n",
      "Requirement already satisfied: scipy in c:\\data\\byu\\fall2023\\201r\\avalanche\\.venv\\lib\\site-packages (from xgboost) (1.11.3)\n",
      "Downloading xgboost-2.0.2-py3-none-win_amd64.whl (99.8 MB)\n",
      "   ---------------------------------------- 0.0/99.8 MB ? eta -:--:--\n",
      "   ---------------------------------------- 0.0/99.8 MB ? eta -:--:--\n",
      "   ---------------------------------------- 0.0/99.8 MB ? eta -:--:--\n",
      "   ---------------------------------------- 0.0/99.8 MB 262.6 kB/s eta 0:06:20\n",
      "   ---------------------------------------- 0.0/99.8 MB 281.8 kB/s eta 0:05:54\n",
      "   ---------------------------------------- 0.1/99.8 MB 722.1 kB/s eta 0:02:18\n",
      "   ---------------------------------------- 0.4/99.8 MB 1.8 MB/s eta 0:00:57\n",
      "   ---------------------------------------- 0.8/99.8 MB 3.3 MB/s eta 0:00:31\n",
      "    --------------------------------------- 1.7/99.8 MB 5.6 MB/s eta 0:00:18\n",
      "   - -------------------------------------- 2.5/99.8 MB 7.7 MB/s eta 0:00:13\n",
      "   - -------------------------------------- 3.6/99.8 MB 9.5 MB/s eta 0:00:11\n",
      "   -- ------------------------------------- 5.6/99.8 MB 13.3 MB/s eta 0:00:08\n",
      "   -- ------------------------------------- 7.2/99.8 MB 15.2 MB/s eta 0:00:07\n",
      "   --- ------------------------------------ 8.8/99.8 MB 17.5 MB/s eta 0:00:06\n",
      "   ---- ----------------------------------- 10.1/99.8 MB 17.9 MB/s eta 0:00:06\n",
      "   ---- ----------------------------------- 10.9/99.8 MB 31.2 MB/s eta 0:00:03\n",
      "   ----- ---------------------------------- 12.8/99.8 MB 32.8 MB/s eta 0:00:03\n",
      "   ----- ---------------------------------- 14.3/99.8 MB 36.4 MB/s eta 0:00:03\n",
      "   ------ --------------------------------- 15.8/99.8 MB 34.4 MB/s eta 0:00:03\n",
      "   ------- -------------------------------- 17.7/99.8 MB 36.4 MB/s eta 0:00:03\n",
      "   ------- -------------------------------- 19.0/99.8 MB 32.8 MB/s eta 0:00:03\n",
      "   ------- -------------------------------- 19.3/99.8 MB 34.4 MB/s eta 0:00:03\n",
      "   -------- ------------------------------- 20.4/99.8 MB 31.2 MB/s eta 0:00:03\n",
      "   -------- ------------------------------- 21.8/99.8 MB 32.8 MB/s eta 0:00:03\n",
      "   --------- ------------------------------ 23.0/99.8 MB 31.1 MB/s eta 0:00:03\n",
      "   --------- ------------------------------ 23.4/99.8 MB 27.3 MB/s eta 0:00:03\n",
      "   --------- ------------------------------ 23.9/99.8 MB 26.2 MB/s eta 0:00:03\n",
      "   --------- ------------------------------ 24.0/99.8 MB 22.6 MB/s eta 0:00:04\n",
      "   ---------- ----------------------------- 25.8/99.8 MB 22.6 MB/s eta 0:00:04\n",
      "   ---------- ----------------------------- 26.0/99.8 MB 22.6 MB/s eta 0:00:04\n",
      "   ----------- ---------------------------- 27.8/99.8 MB 21.1 MB/s eta 0:00:04\n",
      "   ----------- ---------------------------- 28.4/99.8 MB 19.8 MB/s eta 0:00:04\n",
      "   ----------- ---------------------------- 28.8/99.8 MB 18.7 MB/s eta 0:00:04\n",
      "   ------------ --------------------------- 30.2/99.8 MB 19.3 MB/s eta 0:00:04\n",
      "   ------------ --------------------------- 31.5/99.8 MB 19.3 MB/s eta 0:00:04\n",
      "   ------------ --------------------------- 32.1/99.8 MB 19.2 MB/s eta 0:00:04\n",
      "   ------------ --------------------------- 32.1/99.8 MB 19.2 MB/s eta 0:00:04\n",
      "   ------------- -------------------------- 33.4/99.8 MB 18.2 MB/s eta 0:00:04\n",
      "   ------------- -------------------------- 34.4/99.8 MB 21.1 MB/s eta 0:00:04\n",
      "   -------------- ------------------------- 35.2/99.8 MB 20.5 MB/s eta 0:00:04\n",
      "   -------------- ------------------------- 35.7/99.8 MB 18.2 MB/s eta 0:00:04\n",
      "   -------------- ------------------------- 36.6/99.8 MB 19.3 MB/s eta 0:00:04\n",
      "   --------------- ------------------------ 37.6/99.8 MB 18.2 MB/s eta 0:00:04\n",
      "   --------------- ------------------------ 38.2/99.8 MB 16.8 MB/s eta 0:00:04\n",
      "   --------------- ------------------------ 38.4/99.8 MB 16.4 MB/s eta 0:00:04\n",
      "   --------------- ------------------------ 39.6/99.8 MB 17.2 MB/s eta 0:00:04\n",
      "   ---------------- ----------------------- 40.3/99.8 MB 16.4 MB/s eta 0:00:04\n",
      "   ---------------- ----------------------- 41.4/99.8 MB 16.0 MB/s eta 0:00:04\n",
      "   ---------------- ----------------------- 42.2/99.8 MB 15.2 MB/s eta 0:00:04\n",
      "   ----------------- ---------------------- 42.8/99.8 MB 16.4 MB/s eta 0:00:04\n",
      "   ----------------- ---------------------- 43.9/99.8 MB 15.6 MB/s eta 0:00:04\n",
      "   ----------------- ---------------------- 44.7/99.8 MB 14.9 MB/s eta 0:00:04\n",
      "   ------------------ --------------------- 45.7/99.8 MB 14.2 MB/s eta 0:00:04\n",
      "   ------------------ --------------------- 46.8/99.8 MB 14.2 MB/s eta 0:00:04\n",
      "   ------------------- -------------------- 47.7/99.8 MB 13.4 MB/s eta 0:00:04\n",
      "   ------------------- -------------------- 48.3/99.8 MB 13.9 MB/s eta 0:00:04\n",
      "   ------------------- -------------------- 48.9/99.8 MB 14.2 MB/s eta 0:00:04\n",
      "   ------------------- -------------------- 49.7/99.8 MB 13.6 MB/s eta 0:00:04\n",
      "   -------------------- ------------------- 50.7/99.8 MB 13.6 MB/s eta 0:00:04\n",
      "   -------------------- ------------------- 51.3/99.8 MB 13.4 MB/s eta 0:00:04\n",
      "   -------------------- ------------------- 52.1/99.8 MB 13.6 MB/s eta 0:00:04\n",
      "   -------------------- ------------------- 52.4/99.8 MB 13.4 MB/s eta 0:00:04\n",
      "   --------------------- ------------------ 53.0/99.8 MB 13.1 MB/s eta 0:00:04\n",
      "   --------------------- ------------------ 53.6/99.8 MB 12.8 MB/s eta 0:00:04\n",
      "   --------------------- ------------------ 54.4/99.8 MB 13.4 MB/s eta 0:00:04\n",
      "   --------------------- ------------------ 54.8/99.8 MB 13.1 MB/s eta 0:00:04\n",
      "   ---------------------- ----------------- 55.4/99.8 MB 13.4 MB/s eta 0:00:04\n",
      "   ---------------------- ----------------- 56.4/99.8 MB 13.1 MB/s eta 0:00:04\n",
      "   ---------------------- ----------------- 57.1/99.8 MB 13.1 MB/s eta 0:00:04\n",
      "   ----------------------- ---------------- 57.8/99.8 MB 13.4 MB/s eta 0:00:04\n",
      "   ----------------------- ---------------- 58.3/99.8 MB 13.6 MB/s eta 0:00:04\n",
      "   ----------------------- ---------------- 59.0/99.8 MB 13.9 MB/s eta 0:00:03\n",
      "   ----------------------- ---------------- 59.8/99.8 MB 13.6 MB/s eta 0:00:03\n",
      "   ------------------------ --------------- 60.6/99.8 MB 13.9 MB/s eta 0:00:03\n",
      "   ------------------------ --------------- 61.1/99.8 MB 13.6 MB/s eta 0:00:03\n",
      "   ------------------------ --------------- 61.7/99.8 MB 13.6 MB/s eta 0:00:03\n",
      "   ------------------------- -------------- 62.5/99.8 MB 13.9 MB/s eta 0:00:03\n",
      "   ------------------------- -------------- 63.1/99.8 MB 14.2 MB/s eta 0:00:03\n",
      "   ------------------------- -------------- 63.6/99.8 MB 14.2 MB/s eta 0:00:03\n",
      "   ------------------------- -------------- 63.8/99.8 MB 13.9 MB/s eta 0:00:03\n",
      "   ------------------------- -------------- 64.6/99.8 MB 13.6 MB/s eta 0:00:03\n",
      "   -------------------------- ------------- 65.2/99.8 MB 14.2 MB/s eta 0:00:03\n",
      "   -------------------------- ------------- 65.7/99.8 MB 14.2 MB/s eta 0:00:03\n",
      "   -------------------------- ------------- 66.2/99.8 MB 14.2 MB/s eta 0:00:03\n",
      "   -------------------------- ------------- 66.9/99.8 MB 13.9 MB/s eta 0:00:03\n",
      "   --------------------------- ------------ 67.4/99.8 MB 13.9 MB/s eta 0:00:03\n",
      "   --------------------------- ------------ 67.8/99.8 MB 13.4 MB/s eta 0:00:03\n",
      "   --------------------------- ------------ 68.3/99.8 MB 13.1 MB/s eta 0:00:03\n",
      "   --------------------------- ------------ 68.9/99.8 MB 13.6 MB/s eta 0:00:03\n",
      "   --------------------------- ------------ 69.3/99.8 MB 13.4 MB/s eta 0:00:03\n",
      "   ---------------------------- ----------- 70.0/99.8 MB 13.4 MB/s eta 0:00:03\n",
      "   ---------------------------- ----------- 70.5/99.8 MB 13.1 MB/s eta 0:00:03\n",
      "   ---------------------------- ----------- 70.8/99.8 MB 12.6 MB/s eta 0:00:03\n",
      "   ---------------------------- ----------- 71.5/99.8 MB 13.1 MB/s eta 0:00:03\n",
      "   ---------------------------- ----------- 72.1/99.8 MB 13.1 MB/s eta 0:00:03\n",
      "   ----------------------------- ---------- 72.6/99.8 MB 13.1 MB/s eta 0:00:03\n",
      "   ----------------------------- ---------- 73.3/99.8 MB 13.4 MB/s eta 0:00:02\n",
      "   ----------------------------- ---------- 74.1/99.8 MB 13.9 MB/s eta 0:00:02\n",
      "   ----------------------------- ---------- 74.4/99.8 MB 13.4 MB/s eta 0:00:02\n",
      "   ------------------------------ --------- 75.3/99.8 MB 13.9 MB/s eta 0:00:02\n",
      "   ------------------------------ --------- 76.0/99.8 MB 13.9 MB/s eta 0:00:02\n",
      "   ------------------------------ --------- 76.5/99.8 MB 14.6 MB/s eta 0:00:02\n",
      "   ------------------------------ --------- 77.3/99.8 MB 14.2 MB/s eta 0:00:02\n",
      "   ------------------------------- -------- 78.0/99.8 MB 15.2 MB/s eta 0:00:02\n",
      "   ------------------------------- -------- 78.5/99.8 MB 14.6 MB/s eta 0:00:02\n",
      "   ------------------------------- -------- 79.2/99.8 MB 15.2 MB/s eta 0:00:02\n",
      "   -------------------------------- ------- 79.8/99.8 MB 15.6 MB/s eta 0:00:02\n",
      "   -------------------------------- ------- 80.5/99.8 MB 15.2 MB/s eta 0:00:02\n",
      "   -------------------------------- ------- 80.9/99.8 MB 16.0 MB/s eta 0:00:02\n",
      "   -------------------------------- ------- 81.7/99.8 MB 15.6 MB/s eta 0:00:02\n",
      "   --------------------------------- ------ 82.5/99.8 MB 15.6 MB/s eta 0:00:02\n",
      "   --------------------------------- ------ 83.2/99.8 MB 16.0 MB/s eta 0:00:02\n",
      "   --------------------------------- ------ 83.7/99.8 MB 15.2 MB/s eta 0:00:02\n",
      "   --------------------------------- ------ 84.2/99.8 MB 15.2 MB/s eta 0:00:02\n",
      "   --------------------------------- ------ 84.7/99.8 MB 15.2 MB/s eta 0:00:01\n",
      "   ---------------------------------- ----- 85.3/99.8 MB 15.2 MB/s eta 0:00:01\n",
      "   ---------------------------------- ----- 86.0/99.8 MB 14.9 MB/s eta 0:00:01\n",
      "   ---------------------------------- ----- 86.4/99.8 MB 14.9 MB/s eta 0:00:01\n",
      "   ---------------------------------- ----- 87.0/99.8 MB 15.2 MB/s eta 0:00:01\n",
      "   ----------------------------------- ---- 87.9/99.8 MB 14.2 MB/s eta 0:00:01\n",
      "   ----------------------------------- ---- 88.6/99.8 MB 14.9 MB/s eta 0:00:01\n",
      "   ----------------------------------- ---- 89.3/99.8 MB 14.6 MB/s eta 0:00:01\n",
      "   ----------------------------------- ---- 89.8/99.8 MB 14.9 MB/s eta 0:00:01\n",
      "   ------------------------------------ --- 90.4/99.8 MB 14.9 MB/s eta 0:00:01\n",
      "   ------------------------------------ --- 91.0/99.8 MB 15.2 MB/s eta 0:00:01\n",
      "   ------------------------------------ --- 91.5/99.8 MB 14.9 MB/s eta 0:00:01\n",
      "   ------------------------------------- -- 92.3/99.8 MB 14.9 MB/s eta 0:00:01\n",
      "   ------------------------------------- -- 92.7/99.8 MB 14.9 MB/s eta 0:00:01\n",
      "   ------------------------------------- -- 93.7/99.8 MB 15.2 MB/s eta 0:00:01\n",
      "   ------------------------------------- -- 94.0/99.8 MB 14.9 MB/s eta 0:00:01\n",
      "   ------------------------------------- -- 94.7/99.8 MB 15.2 MB/s eta 0:00:01\n",
      "   -------------------------------------- - 95.1/99.8 MB 14.6 MB/s eta 0:00:01\n",
      "   -------------------------------------- - 95.7/99.8 MB 14.9 MB/s eta 0:00:01\n",
      "   -------------------------------------- - 96.5/99.8 MB 15.2 MB/s eta 0:00:01\n",
      "   -------------------------------------- - 96.9/99.8 MB 14.6 MB/s eta 0:00:01\n",
      "   ---------------------------------------  97.3/99.8 MB 14.9 MB/s eta 0:00:01\n",
      "   ---------------------------------------  98.0/99.8 MB 14.6 MB/s eta 0:00:01\n",
      "   ---------------------------------------  98.5/99.8 MB 14.2 MB/s eta 0:00:01\n",
      "   ---------------------------------------  99.3/99.8 MB 14.2 MB/s eta 0:00:01\n",
      "   ---------------------------------------  99.7/99.8 MB 13.9 MB/s eta 0:00:01\n",
      "   ---------------------------------------  99.7/99.8 MB 13.9 MB/s eta 0:00:01\n",
      "   ---------------------------------------  99.7/99.8 MB 13.9 MB/s eta 0:00:01\n",
      "   ---------------------------------------  99.7/99.8 MB 13.9 MB/s eta 0:00:01\n",
      "   ---------------------------------------  99.7/99.8 MB 13.9 MB/s eta 0:00:01\n",
      "   ---------------------------------------  99.7/99.8 MB 13.9 MB/s eta 0:00:01\n",
      "   ---------------------------------------  99.7/99.8 MB 13.9 MB/s eta 0:00:01\n",
      "   ---------------------------------------  99.7/99.8 MB 13.9 MB/s eta 0:00:01\n",
      "   ---------------------------------------- 99.8/99.8 MB 9.8 MB/s eta 0:00:00\n",
      "Installing collected packages: xgboost\n",
      "Successfully installed xgboost-2.0.2\n"
     ]
    }
   ],
   "source": [
    "# pip install xgboost\n",
    "!pip install xgboost"
   ]
  },
  {
   "cell_type": "code",
   "execution_count": 25,
   "metadata": {},
   "outputs": [
    {
     "data": {
      "text/plain": [
       "0    2\n",
       "1    2\n",
       "2    2\n",
       "3    2\n",
       "4    1\n",
       "dtype: int32"
      ]
     },
     "execution_count": 25,
     "metadata": {},
     "output_type": "execute_result"
    }
   ],
   "source": [
    "# XGBoost\n",
    "\n",
    "# Data\n",
    "X = df[input_columns]\n",
    "y = df[target_columns]\n",
    "y = np.mean(y, axis=1).round().astype(int)\n",
    "\n",
    "# Split\n"
   ]
  },
  {
   "cell_type": "code",
   "execution_count": null,
   "metadata": {},
   "outputs": [],
   "source": [
    "# Using XGBoost\n",
    "model = XGBRegressor()\n"
   ]
  }
 ],
 "metadata": {
  "kernelspec": {
   "display_name": ".venv",
   "language": "python",
   "name": "python3"
  },
  "language_info": {
   "codemirror_mode": {
    "name": "ipython",
    "version": 3
   },
   "file_extension": ".py",
   "mimetype": "text/x-python",
   "name": "python",
   "nbconvert_exporter": "python",
   "pygments_lexer": "ipython3",
   "version": "3.11.6"
  }
 },
 "nbformat": 4,
 "nbformat_minor": 2
}
