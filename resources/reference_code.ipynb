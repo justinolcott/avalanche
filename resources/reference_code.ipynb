{
 "cells": [
  {
   "cell_type": "code",
   "execution_count": null,
   "metadata": {},
   "outputs": [],
   "source": [
    "import matplotlib.pyplot as plt\n",
    "from io import BytesIO\n",
    "\n",
    "# Load the image from the URL\n",
    "url = 'https://utahavalanchecenter.org/sites/default/files/forecast/202303/20230317-064230-3.png'\n",
    "response = requests.get(url, stream=True)\n",
    "image = plt.imread(BytesIO(response.content))\n",
    "\n",
    "# Display the image with a grid\n",
    "fig, ax = plt.subplots()\n",
    "ax.imshow(image)\n",
    "ax.set_xticks(range(0, image.shape[1], int(image.shape[1]/20)))\n",
    "ax.set_yticks(range(0, image.shape[0], int(image.shape[0]/20)))\n",
    "ax.grid(True, linewidth=1)\n",
    "\n",
    "# Set x-axis labels sideways and smaller\n",
    "plt.xticks(rotation=90, fontsize=8)\n",
    "\n",
    "\n",
    "plt.show()\n"
   ]
  },
  {
   "cell_type": "code",
   "execution_count": null,
   "metadata": {},
   "outputs": [],
   "source": [
    "import requests\n",
    "from bs4 import BeautifulSoup\n",
    "\n",
    "def get_links(url):\n",
    "    response = requests.get(url)\n",
    "    soup = BeautifulSoup(response.content, 'html.parser')\n",
    "    links = []\n",
    "    for link in soup.find_all('a'):\n",
    "        href = link.get('href')\n",
    "        if href and href.startswith('http'):\n",
    "            links.append(href)\n",
    "    return links"
   ]
  }
 ],
 "metadata": {
  "language_info": {
   "name": "python"
  }
 },
 "nbformat": 4,
 "nbformat_minor": 2
}
