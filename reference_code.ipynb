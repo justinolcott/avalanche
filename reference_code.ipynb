{
 "cells": [
  {
   "cell_type": "code",
   "execution_count": null,
   "metadata": {},
   "outputs": [],
   "source": [
    "import matplotlib.pyplot as plt\n",
    "from io import BytesIO\n",
    "\n",
    "# Load the image from the URL\n",
    "url = 'https://utahavalanchecenter.org/sites/default/files/forecast/202310/20231002-133121-6.png'\n",
    "response = requests.get(url, stream=True)\n",
    "image = plt.imread(BytesIO(response.content))\n",
    "\n",
    "# Display the image with a grid\n",
    "fig, ax = plt.subplots()\n",
    "ax.imshow(image)\n",
    "ax.set_xticks(range(0, image.shape[1], int(image.shape[1]/20)))\n",
    "ax.set_yticks(range(0, image.shape[0], int(image.shape[0]/20)))\n",
    "ax.grid(True, linewidth=1)\n",
    "\n",
    "# Set x-axis labels sideways and smaller\n",
    "plt.xticks(rotation=90, fontsize=8)\n",
    "\n",
    "\n",
    "plt.show()\n"
   ]
  },
  {
   "cell_type": "code",
   "execution_count": null,
   "metadata": {},
   "outputs": [],
   "source": []
  }
 ],
 "metadata": {
  "language_info": {
   "name": "python"
  }
 },
 "nbformat": 4,
 "nbformat_minor": 2
}
